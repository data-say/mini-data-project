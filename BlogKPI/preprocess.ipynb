{
 "cells": [
  {
   "cell_type": "markdown",
   "id": "7922ae36-425d-4ea3-be94-76d151f1cd4e",
   "metadata": {},
   "source": [
    "# **데이터 전처리**"
   ]
  },
  {
   "cell_type": "code",
   "execution_count": 1,
   "id": "9c7b5424-c0bd-46a3-840d-e5a66f795352",
   "metadata": {},
   "outputs": [],
   "source": [
    "import pandas as pd\n",
    "import numpy as np\n",
    "from functools import reduce\n",
    "import warnings\n",
    "warnings.filterwarnings(action='ignore')"
   ]
  },
  {
   "cell_type": "code",
   "execution_count": 2,
   "id": "5365a131-8055-4774-af9e-8559d51c8c98",
   "metadata": {},
   "outputs": [],
   "source": [
    "import re\n",
    "from os import walk\n",
    "filenames = next(walk(\"./raw/\"), (None, None, []))[2]"
   ]
  },
  {
   "cell_type": "markdown",
   "id": "a135b235-70e9-4123-802e-0523b8212522",
   "metadata": {
    "tags": []
   },
   "source": [
    "## **조회수 데이터 전처리**"
   ]
  },
  {
   "cell_type": "markdown",
   "id": "cf861e91-760e-49de-9d74-39a85e2cdae2",
   "metadata": {},
   "source": [
    "### 주간"
   ]
  },
  {
   "cell_type": "code",
   "execution_count": 3,
   "id": "c31bcb43-0374-4581-bb53-0a76e18e12e1",
   "metadata": {},
   "outputs": [
    {
     "data": {
      "text/plain": [
       "['조회수_주간_2021-12-27_2022-04-10_20220412_180504.xlsx']"
      ]
     },
     "execution_count": 3,
     "metadata": {},
     "output_type": "execute_result"
    }
   ],
   "source": [
    "matches = list(map(lambda x: x[0], filter(None, map(lambda x: re.findall(r'^조회수_주간.*', x), filenames))))\n",
    "matches"
   ]
  },
  {
   "cell_type": "code",
   "execution_count": 4,
   "id": "13e6931c-010f-458b-b546-cd21dfe1dbfa",
   "metadata": {},
   "outputs": [],
   "source": [
    "globals()[\"조회수_주간_정보\"] = pd.read_excel(\"raw/\" + matches[0], nrows=5, usecols=[0,1], names=['column', 'value'], header=None)\n",
    "globals()[\"조회수_주간\"] = pd.read_excel(\"raw/\" + matches[0], header=6, usecols=[0,2,3,4,5])"
   ]
  },
  {
   "cell_type": "code",
   "execution_count": 5,
   "id": "beee103b-ab2f-4dcd-85fc-49f4f6c01982",
   "metadata": {},
   "outputs": [],
   "source": [
    "조회수_주간.to_csv('data/조회수_주간.csv', index=False)"
   ]
  },
  {
   "cell_type": "markdown",
   "id": "5a8e5b50-9f64-4b1e-b870-c2e97f71c8f6",
   "metadata": {},
   "source": [
    "### 일간"
   ]
  },
  {
   "cell_type": "code",
   "execution_count": 6,
   "id": "ddcaac8e-a6ce-4f33-9de1-3f26b2d378fa",
   "metadata": {},
   "outputs": [
    {
     "data": {
      "text/plain": [
       "['조회수_일간_2022-01-12_2022-04-11_20220412_180444.xlsx']"
      ]
     },
     "execution_count": 6,
     "metadata": {},
     "output_type": "execute_result"
    }
   ],
   "source": [
    "matches = list(map(lambda x: x[0], filter(None, map(lambda x: re.findall(r'^조회수_일간.*', x), filenames))))\n",
    "matches"
   ]
  },
  {
   "cell_type": "code",
   "execution_count": 7,
   "id": "34be2158-4246-478d-a24c-db8aafdbb0ea",
   "metadata": {},
   "outputs": [],
   "source": [
    "globals()[\"조회수_일간_정보\"] = pd.read_excel(\"raw/\" + matches[0], nrows=5, usecols=[0,1], names=['column', 'value'], header=None)\n",
    "globals()[\"조회수_일간\"] = pd.read_excel(\"raw/\" + matches[0], header=6)"
   ]
  },
  {
   "cell_type": "code",
   "execution_count": 8,
   "id": "c4d893a3-8296-4cab-b2e9-45e60589c2ab",
   "metadata": {},
   "outputs": [],
   "source": [
    "조회수_일간.to_csv('data/조회수_일간.csv', index=False)"
   ]
  },
  {
   "cell_type": "markdown",
   "id": "0c9aee4f-b28d-4bca-abc0-db60c5386906",
   "metadata": {},
   "source": [
    "## **순방문자수 데이터 전처리**"
   ]
  },
  {
   "cell_type": "markdown",
   "id": "dfd2d836-6d80-4ef9-883c-a4975d9de850",
   "metadata": {},
   "source": [
    "### 주간"
   ]
  },
  {
   "cell_type": "code",
   "execution_count": 9,
   "id": "5ca185c1-2673-44d6-a677-56960a66761a",
   "metadata": {},
   "outputs": [
    {
     "data": {
      "text/plain": [
       "['순방문자수_주간_2021-12-27_2022-04-10_20220412_180524.xlsx']"
      ]
     },
     "execution_count": 9,
     "metadata": {},
     "output_type": "execute_result"
    }
   ],
   "source": [
    "matches = list(map(lambda x: x[0], filter(None, map(lambda x: re.findall(r'^순방문자수_주간.*', x), filenames))))\n",
    "matches"
   ]
  },
  {
   "cell_type": "code",
   "execution_count": 10,
   "id": "f6ad98aa-640c-4534-b4b1-b9dbd4e5ee1b",
   "metadata": {},
   "outputs": [],
   "source": [
    "globals()[\"순방문자수_주간_정보\"] = pd.read_excel(\"raw/\" + matches[0], nrows=5, usecols=[0,1], names=['column', 'value'], header=None)\n",
    "globals()[\"순방문자수_주간\"] = pd.read_excel(\"raw/\" + matches[0], header=6, usecols=[0,2,3,4,5])"
   ]
  },
  {
   "cell_type": "code",
   "execution_count": 11,
   "id": "ca7066b8-e7d8-4e01-81d6-fdd8d6d4e1f5",
   "metadata": {},
   "outputs": [],
   "source": [
    "순방문자수_주간.to_csv('data/순방문자수_주간.csv', index=False)"
   ]
  },
  {
   "cell_type": "markdown",
   "id": "25181bea-172e-41c0-a305-0c40d3feead0",
   "metadata": {},
   "source": [
    "### 일간"
   ]
  },
  {
   "cell_type": "code",
   "execution_count": 12,
   "id": "d743f6f8-3fc5-42ae-bf0b-3a075211dd20",
   "metadata": {},
   "outputs": [
    {
     "data": {
      "text/plain": [
       "['순방문자수_일간_2022-01-12_2022-04-11_20220412_180517.xlsx']"
      ]
     },
     "execution_count": 12,
     "metadata": {},
     "output_type": "execute_result"
    }
   ],
   "source": [
    "matches = list(map(lambda x: x[0], filter(None, map(lambda x: re.findall(r'^순방문자수_일간.*', x), filenames))))\n",
    "matches"
   ]
  },
  {
   "cell_type": "code",
   "execution_count": 13,
   "id": "fd647292-8e93-4941-ad7d-1b41141bd3e4",
   "metadata": {},
   "outputs": [],
   "source": [
    "globals()[\"순방문자수_일간_정보\"] = pd.read_excel(\"raw/\" + matches[0], nrows=5, usecols=[0,1], names=['column', 'value'], header=None)\n",
    "globals()[\"순방문자수_일간\"] = pd.read_excel(\"raw/\" + matches[0], header=6)"
   ]
  },
  {
   "cell_type": "code",
   "execution_count": 14,
   "id": "5e3d4827-188d-4093-a81d-12c088ce4879",
   "metadata": {},
   "outputs": [],
   "source": [
    "순방문자수_일간.to_csv('data/순방문자수_일간.csv', index=False)"
   ]
  },
  {
   "cell_type": "markdown",
   "id": "0c797134-a38d-4285-9928-3c35d328edfe",
   "metadata": {
    "tags": []
   },
   "source": [
    "## **방문횟수 데이터 전처리**"
   ]
  },
  {
   "cell_type": "markdown",
   "id": "560ba045-8351-4d6b-89a9-428e72b0f59b",
   "metadata": {},
   "source": [
    "### 주간"
   ]
  },
  {
   "cell_type": "code",
   "execution_count": 15,
   "id": "29ff155b-60a0-44d3-8e53-5d83aca29449",
   "metadata": {},
   "outputs": [
    {
     "data": {
      "text/plain": [
       "['방문횟수_주간_2021-12-27_2022-04-10_20220412_180544.xlsx']"
      ]
     },
     "execution_count": 15,
     "metadata": {},
     "output_type": "execute_result"
    }
   ],
   "source": [
    "matches = list(map(lambda x: x[0], filter(None, map(lambda x: re.findall(r'^방문횟수_주간.*', x), filenames))))\n",
    "matches"
   ]
  },
  {
   "cell_type": "code",
   "execution_count": 16,
   "id": "98760e01-faf0-4056-aef6-561000a890d0",
   "metadata": {},
   "outputs": [],
   "source": [
    "globals()[\"방문횟수_주간_정보\"] = pd.read_excel(\"raw/\" + matches[0], nrows=5, usecols=[0,1], names=['column', 'value'], header=None)\n",
    "globals()[\"방문횟수_주간\"] = pd.read_excel(\"raw/\" + matches[0], header=6, usecols=[0,2])"
   ]
  },
  {
   "cell_type": "code",
   "execution_count": 17,
   "id": "6a92450b-26aa-473b-8b08-478d3b4ba098",
   "metadata": {},
   "outputs": [],
   "source": [
    "방문횟수_주간.to_csv('data/방문횟수_주간.csv', index=False)"
   ]
  },
  {
   "cell_type": "markdown",
   "id": "5aa68f4c-cf41-4934-bde3-24df9664973e",
   "metadata": {},
   "source": [
    "### 일간"
   ]
  },
  {
   "cell_type": "code",
   "execution_count": 18,
   "id": "5ab9e667-1829-43f8-b20b-71845afb6d40",
   "metadata": {},
   "outputs": [
    {
     "data": {
      "text/plain": [
       "['방문횟수_일간_2022-01-12_2022-04-11_20220412_180537.xlsx']"
      ]
     },
     "execution_count": 18,
     "metadata": {},
     "output_type": "execute_result"
    }
   ],
   "source": [
    "matches = list(map(lambda x: x[0], filter(None, map(lambda x: re.findall(r'^방문횟수_일간.*', x), filenames))))\n",
    "matches"
   ]
  },
  {
   "cell_type": "code",
   "execution_count": 19,
   "id": "a5a767b1-0b3e-411b-ba75-186273f01d03",
   "metadata": {},
   "outputs": [],
   "source": [
    "globals()[\"방문횟수_일간_정보\"] = pd.read_excel(\"raw/\" + matches[0], nrows=5, usecols=[0,1], names=['column', 'value'], header=None)\n",
    "globals()[\"방문횟수_일간\"] = pd.read_excel(\"raw/\" + matches[0], header=6)"
   ]
  },
  {
   "cell_type": "code",
   "execution_count": 20,
   "id": "43063fb8-855b-46be-9424-28b90cbbb968",
   "metadata": {},
   "outputs": [],
   "source": [
    "방문횟수_일간.to_csv('data/방문횟수_일간.csv', index=False)"
   ]
  },
  {
   "cell_type": "markdown",
   "id": "3e3511ff-cbbc-40ac-bdd3-682e79f4408e",
   "metadata": {},
   "source": [
    "## **평균방문횟수 데이터 전처리**"
   ]
  },
  {
   "cell_type": "markdown",
   "id": "63c1328d-9711-4122-aa2c-30209f162ad1",
   "metadata": {},
   "source": [
    "### 주간"
   ]
  },
  {
   "cell_type": "code",
   "execution_count": 21,
   "id": "3e57c7c2-ad20-4003-9000-00f21b1cb13d",
   "metadata": {},
   "outputs": [
    {
     "data": {
      "text/plain": [
       "['평균방문횟수_주간_2021-12-27_2022-04-10_20220412_180605.xlsx']"
      ]
     },
     "execution_count": 21,
     "metadata": {},
     "output_type": "execute_result"
    }
   ],
   "source": [
    "matches = list(map(lambda x: x[0], filter(None, map(lambda x: re.findall(r'^평균방문횟수_주간.*', x), filenames))))\n",
    "matches"
   ]
  },
  {
   "cell_type": "code",
   "execution_count": 22,
   "id": "63623efc-a3c5-4972-b2f7-4ab297d02bb0",
   "metadata": {},
   "outputs": [],
   "source": [
    "globals()[\"평균방문횟수_주간_정보\"] = pd.read_excel(\"raw/\" + matches[0], nrows=6, usecols=[0,1], names=['column', 'value'], header=None)\n",
    "globals()[\"평균방문횟수_주간\"] = pd.read_excel(\"raw/\" + matches[0], header=7, usecols=[0,2])"
   ]
  },
  {
   "cell_type": "code",
   "execution_count": 23,
   "id": "b870d72a-56e9-42a3-be59-9d21546895ed",
   "metadata": {},
   "outputs": [],
   "source": [
    "평균방문횟수_주간.to_csv('data/평균방문횟수_주간.csv', index=False)"
   ]
  },
  {
   "cell_type": "markdown",
   "id": "64ac388f-d35d-4801-9f84-f36dba0dc88e",
   "metadata": {},
   "source": [
    "## **재방문율 데이터 전처리**"
   ]
  },
  {
   "cell_type": "markdown",
   "id": "933abccd-0ca4-4ec7-a63b-d87a826251ca",
   "metadata": {},
   "source": [
    "### 주간"
   ]
  },
  {
   "cell_type": "code",
   "execution_count": 24,
   "id": "a5c5f796-3ed8-4590-822e-c3b98536fa57",
   "metadata": {},
   "outputs": [
    {
     "data": {
      "text/plain": [
       "['재방문율_주간_2021-12-27_2022-04-10_20220412_180625.xlsx',\n",
       " '재방문율_주간_2021-12-27_2022-04-10_20220412_212047.xlsx']"
      ]
     },
     "execution_count": 24,
     "metadata": {},
     "output_type": "execute_result"
    }
   ],
   "source": [
    "matches = list(map(lambda x: x[0], filter(None, map(lambda x: re.findall(r'^재방문율_주간.*', x), filenames))))\n",
    "matches"
   ]
  },
  {
   "cell_type": "code",
   "execution_count": 25,
   "id": "96548778-82e7-42b4-a8f8-ceae231c80db",
   "metadata": {},
   "outputs": [],
   "source": [
    "for i, m in enumerate(matches):\n",
    "    globals()[\"재방문율_주간_정보\"+str(i+1)] = pd.read_excel(\"raw/\" + m, nrows=7, usecols=[0,1], names=['column', 'value'], header=None)\n",
    "    globals()[\"재방문율_주간\"+str(i+1)] = pd.read_excel(\"raw/\" + m, header=8, usecols=[0,2])"
   ]
  },
  {
   "cell_type": "code",
   "execution_count": 26,
   "id": "c7d80e45-85ec-4f55-bb0c-aa48bfddfb41",
   "metadata": {},
   "outputs": [],
   "source": [
    "재방문율_주간 = pd.merge(재방문율_주간1, 재방문율_주간2, on='기간')"
   ]
  },
  {
   "cell_type": "code",
   "execution_count": 27,
   "id": "3eb02d3e-dfee-4bd1-bffd-bda2d0badb72",
   "metadata": {},
   "outputs": [],
   "source": [
    "재방문율_주간.to_csv('data/재방문율_주간.csv', index=False)"
   ]
  },
  {
   "cell_type": "markdown",
   "id": "3365de03-d8c4-4b94-9ba1-42f8c70baff2",
   "metadata": {
    "tags": []
   },
   "source": [
    "## **평균사용시간 데이터 전처리**"
   ]
  },
  {
   "cell_type": "markdown",
   "id": "f7eb2072-395b-4f9e-a8a8-2a1c1f5ab545",
   "metadata": {},
   "source": [
    "### 주간"
   ]
  },
  {
   "cell_type": "code",
   "execution_count": 28,
   "id": "5003d7e7-8d68-4aec-ac1d-72d797a3e040",
   "metadata": {},
   "outputs": [
    {
     "data": {
      "text/plain": [
       "['평균사용시간_주간_2021-12-27_2022-04-10_20220412_180643.xlsx']"
      ]
     },
     "execution_count": 28,
     "metadata": {},
     "output_type": "execute_result"
    }
   ],
   "source": [
    "matches = list(map(lambda x: x[0], filter(None, map(lambda x: re.findall(r'^평균사용시간_주간.*', x), filenames))))\n",
    "matches"
   ]
  },
  {
   "cell_type": "code",
   "execution_count": 29,
   "id": "9fe31f15-5d16-4e49-8470-93603c24a8c5",
   "metadata": {},
   "outputs": [],
   "source": [
    "globals()[\"평균사용시간_주간_정보\"] = pd.read_excel(\"raw/\" + matches[0], nrows=6, usecols=[0,1], names=['column', 'value'], header=None)\n",
    "globals()[\"평균사용시간_주간\"] = pd.read_excel(\"raw/\" + matches[0], header=7, usecols=[0,2])"
   ]
  },
  {
   "cell_type": "code",
   "execution_count": 30,
   "id": "1c5da16d-d4d8-47ac-9a20-38dc8732c99b",
   "metadata": {},
   "outputs": [],
   "source": [
    "평균사용시간_주간.to_csv('data/평균사용시간_주간.csv', index=False)"
   ]
  },
  {
   "cell_type": "markdown",
   "id": "72942f8a-7fa9-4939-94c1-c24776562dba",
   "metadata": {},
   "source": [
    "### 일간"
   ]
  },
  {
   "cell_type": "code",
   "execution_count": 31,
   "id": "2ffc0b42-eab1-4b52-9c61-443d92039c24",
   "metadata": {},
   "outputs": [
    {
     "data": {
      "text/plain": [
       "['평균사용시간_일간_2022-01-12_2022-04-11_20220412_180638.xlsx']"
      ]
     },
     "execution_count": 31,
     "metadata": {},
     "output_type": "execute_result"
    }
   ],
   "source": [
    "matches = list(map(lambda x: x[0], filter(None, map(lambda x: re.findall(r'^평균사용시간_일간.*', x), filenames))))\n",
    "matches"
   ]
  },
  {
   "cell_type": "code",
   "execution_count": 32,
   "id": "0332ad34-8afb-4ba8-9647-1aff99776852",
   "metadata": {},
   "outputs": [],
   "source": [
    "globals()[\"평균사용시간_일간_정보\"] = pd.read_excel(\"raw/\" + matches[0], nrows=6, usecols=[0,1], names=['column', 'value'], header=None)\n",
    "globals()[\"평균사용시간_일간\"] = pd.read_excel(\"raw/\" + matches[0], header=7)"
   ]
  },
  {
   "cell_type": "code",
   "execution_count": 33,
   "id": "4dfe31cd-262a-4898-a429-b8e9b8e3f4cd",
   "metadata": {},
   "outputs": [],
   "source": [
    "평균사용시간_일간.to_csv('data/평균사용시간_일간.csv', index=False)"
   ]
  },
  {
   "cell_type": "markdown",
   "id": "c9a19650-2ef7-4a5d-995a-da6ba74be3fd",
   "metadata": {},
   "source": [
    "## **유입분석 데이터 전처리**"
   ]
  },
  {
   "cell_type": "markdown",
   "id": "a6157a8b-6b03-4b02-bf70-8c6869a2086c",
   "metadata": {},
   "source": [
    "### 주간"
   ]
  },
  {
   "cell_type": "code",
   "execution_count": 34,
   "id": "37baf3c5-25e8-442f-8bec-53a0ae8bbdda",
   "metadata": {},
   "outputs": [
    {
     "data": {
      "text/plain": [
       "['유입분석_주간_2021-12-27_2022-01-02_20220412_183544.xlsx',\n",
       " '유입분석_주간_2022-01-03_2022-01-09_20220412_183538.xlsx',\n",
       " '유입분석_주간_2022-01-10_2022-01-16_20220412_183532.xlsx',\n",
       " '유입분석_주간_2022-01-17_2022-01-23_20220412_183524.xlsx',\n",
       " '유입분석_주간_2022-01-24_2022-01-30_20220412_183429.xlsx',\n",
       " '유입분석_주간_2022-01-31_2022-02-06_20220412_183421.xlsx',\n",
       " '유입분석_주간_2022-02-07_2022-02-13_20220412_183415.xlsx',\n",
       " '유입분석_주간_2022-02-14_2022-02-20_20220412_183409.xlsx',\n",
       " '유입분석_주간_2022-02-21_2022-02-27_20220412_183402.xlsx',\n",
       " '유입분석_주간_2022-02-28_2022-03-06_20220412_183355.xlsx',\n",
       " '유입분석_주간_2022-03-07_2022-03-13_20220412_183349.xlsx',\n",
       " '유입분석_주간_2022-03-14_2022-03-20_20220412_183342.xlsx',\n",
       " '유입분석_주간_2022-03-21_2022-03-27_20220412_183336.xlsx',\n",
       " '유입분석_주간_2022-03-28_2022-04-03_20220412_183251.xlsx',\n",
       " '유입분석_주간_2022-04-04_2022-04-10_20220412_180727.xlsx']"
      ]
     },
     "execution_count": 34,
     "metadata": {},
     "output_type": "execute_result"
    }
   ],
   "source": [
    "matches = list(map(lambda x: x[0], filter(None, map(lambda x: re.findall(r'^유입분석_주간.*', x), filenames))))\n",
    "matches"
   ]
  },
  {
   "cell_type": "code",
   "execution_count": 35,
   "id": "63f1a9b0-735b-44d2-b0a9-94220c1a751d",
   "metadata": {},
   "outputs": [],
   "source": [
    "for i, m in enumerate(matches):\n",
    "    globals()[\"유입분석_주간_정보\"+str(i+1)] = pd.read_excel(\"raw/\" + m, nrows=6, usecols=[0,1], names=['column', 'value'], header=None)\n",
    "    globals()[\"유입분석_주간\"+str(i+1)] = pd.read_excel(\"raw/\" + m, header=7, names=['유입경로', '비율', '상세유입경로', '상세비율'])\n",
    "    date = '~'.join(re.findall(r'\\d{4}-\\d{2}-\\d{2}', m))\n",
    "    globals()[\"유입분석_주간\"+str(i+1)]['기간'] = date"
   ]
  },
  {
   "cell_type": "code",
   "execution_count": 36,
   "id": "83421e73-bd2e-4e0a-9e41-cde0aebe98db",
   "metadata": {},
   "outputs": [],
   "source": [
    "pdList = []\n",
    "pdList.extend(value for name, value in locals().items() if name.startswith('유입분석_주간') and not name.startswith('유입분석_주간_정보'))"
   ]
  },
  {
   "cell_type": "code",
   "execution_count": 37,
   "id": "5edd1c1b-84c8-4c12-8ac5-55303495b6c3",
   "metadata": {},
   "outputs": [],
   "source": [
    "유입분석_주간 = pd.concat(pdList, axis=0)"
   ]
  },
  {
   "cell_type": "code",
   "execution_count": 38,
   "id": "ff6d0346-411f-418a-8878-ac42ab6beced",
   "metadata": {},
   "outputs": [],
   "source": [
    "유입분석_주간.to_csv('data/유입분석_주간.csv', index=False)"
   ]
  },
  {
   "cell_type": "markdown",
   "id": "b5b717bd-d077-406c-a92a-6ff556298a14",
   "metadata": {},
   "source": [
    "## **성연령별분포 데이터 전처리**"
   ]
  },
  {
   "cell_type": "markdown",
   "id": "e233bbcd-084a-41b2-871a-584423f09450",
   "metadata": {
    "tags": []
   },
   "source": [
    "### 주간"
   ]
  },
  {
   "cell_type": "code",
   "execution_count": 39,
   "id": "2747a395-6371-4b63-8534-01511b222337",
   "metadata": {},
   "outputs": [
    {
     "data": {
      "text/plain": [
       "['성연령별분포_주간_2021-12-27_2022-01-02_20220412_183613.xlsx',\n",
       " '성연령별분포_주간_2022-01-03_2022-01-09_20220412_183624.xlsx',\n",
       " '성연령별분포_주간_2022-01-10_2022-01-16_20220412_183630.xlsx',\n",
       " '성연령별분포_주간_2022-01-17_2022-01-23_20220412_183635.xlsx',\n",
       " '성연령별분포_주간_2022-01-24_2022-01-30_20220412_183640.xlsx',\n",
       " '성연령별분포_주간_2022-01-31_2022-02-06_20220412_183646.xlsx',\n",
       " '성연령별분포_주간_2022-02-07_2022-02-13_20220412_183701.xlsx',\n",
       " '성연령별분포_주간_2022-02-14_2022-02-20_20220412_183706.xlsx',\n",
       " '성연령별분포_주간_2022-02-21_2022-02-27_20220412_183712.xlsx',\n",
       " '성연령별분포_주간_2022-02-28_2022-03-06_20220412_183717.xlsx',\n",
       " '성연령별분포_주간_2022-03-07_2022-03-13_20220412_183724.xlsx',\n",
       " '성연령별분포_주간_2022-03-14_2022-03-20_20220412_183729.xlsx',\n",
       " '성연령별분포_주간_2022-03-21_2022-03-27_20220412_183734.xlsx',\n",
       " '성연령별분포_주간_2022-03-28_2022-04-03_20220412_183739.xlsx',\n",
       " '성연령별분포_주간_2022-04-04_2022-04-10_20220412_183745.xlsx']"
      ]
     },
     "execution_count": 39,
     "metadata": {},
     "output_type": "execute_result"
    }
   ],
   "source": [
    "matches = list(map(lambda x: x[0], filter(None, map(lambda x: re.findall(r'^성연령별분포_주간.*', x), filenames))))\n",
    "matches"
   ]
  },
  {
   "cell_type": "code",
   "execution_count": 40,
   "id": "d3d12a93-4b8e-4200-ac8f-84992a558b4f",
   "metadata": {},
   "outputs": [],
   "source": [
    "for i, m in enumerate(matches):\n",
    "    globals()[\"성연령별분포_주간_정보\"+str(i+1)] = pd.read_excel(\"raw/\" + m, nrows=7, usecols=[0,1], names=['column', 'value'], header=None)\n",
    "    globals()[\"성연령별분포_주간\"+str(i+1)] = pd.read_excel(\"raw/\" + m, header=8)\n",
    "    date = '~'.join(re.findall(r'\\d{4}-\\d{2}-\\d{2}', m))\n",
    "    globals()[\"성연령별분포_주간\"+str(i+1)]['기간'] = date"
   ]
  },
  {
   "cell_type": "code",
   "execution_count": 41,
   "id": "dd5d5a0a-b9a4-4c97-8909-d3ce548c0024",
   "metadata": {},
   "outputs": [],
   "source": [
    "pdList = []\n",
    "pdList.extend(value for name, value in locals().items() if name.startswith('성연령별분포_주간') and not name.startswith('성연령별분포_주간_정보'))"
   ]
  },
  {
   "cell_type": "code",
   "execution_count": 42,
   "id": "72b28376-4d6a-4fc1-a0d8-e17cadc2e1e9",
   "metadata": {},
   "outputs": [],
   "source": [
    "성연령별분포_주간 = pd.concat(pdList, axis=0)"
   ]
  },
  {
   "cell_type": "code",
   "execution_count": 43,
   "id": "6a900115-c8e1-4005-a98d-22037a3a01ef",
   "metadata": {},
   "outputs": [],
   "source": [
    "성연령별분포_주간.to_csv('data/성연령별분포_주간.csv', index=False)"
   ]
  },
  {
   "cell_type": "markdown",
   "id": "38ac92b2-1f9b-4a87-88e6-54d8f5f22e21",
   "metadata": {},
   "source": [
    "## **기기별분포 데이터 전처리**"
   ]
  },
  {
   "cell_type": "markdown",
   "id": "99504cae-f408-49e7-bf61-4a2ef3c6b213",
   "metadata": {},
   "source": [
    "### 주간"
   ]
  },
  {
   "cell_type": "code",
   "execution_count": 44,
   "id": "9548ee06-81fb-4c62-b2dd-4c3c492fd2dc",
   "metadata": {},
   "outputs": [
    {
     "data": {
      "text/plain": [
       "['기기별분포_주간_2021-12-27_2022-01-02_20220412_183932.xlsx',\n",
       " '기기별분포_주간_2022-01-03_2022-01-09_20220412_183928.xlsx',\n",
       " '기기별분포_주간_2022-01-10_2022-01-16_20220412_183922.xlsx',\n",
       " '기기별분포_주간_2022-01-17_2022-01-23_20220412_183917.xlsx',\n",
       " '기기별분포_주간_2022-01-24_2022-01-30_20220412_183912.xlsx',\n",
       " '기기별분포_주간_2022-01-31_2022-02-06_20220412_183906.xlsx',\n",
       " '기기별분포_주간_2022-02-07_2022-02-13_20220412_183901.xlsx',\n",
       " '기기별분포_주간_2022-02-14_2022-02-20_20220412_183856.xlsx',\n",
       " '기기별분포_주간_2022-02-21_2022-02-27_20220412_183851.xlsx',\n",
       " '기기별분포_주간_2022-02-28_2022-03-06_20220412_183846.xlsx',\n",
       " '기기별분포_주간_2022-03-07_2022-03-13_20220412_183841.xlsx',\n",
       " '기기별분포_주간_2022-03-14_2022-03-20_20220412_183836.xlsx',\n",
       " '기기별분포_주간_2022-03-21_2022-03-27_20220412_183809.xlsx',\n",
       " '기기별분포_주간_2022-03-28_2022-04-03_20220412_183804.xlsx',\n",
       " '기기별분포_주간_2022-04-04_2022-04-10_20220412_183756.xlsx']"
      ]
     },
     "execution_count": 44,
     "metadata": {},
     "output_type": "execute_result"
    }
   ],
   "source": [
    "matches = list(map(lambda x: x[0], filter(None, map(lambda x: re.findall(r'^기기별분포_주간.*', x), filenames))))\n",
    "matches"
   ]
  },
  {
   "cell_type": "code",
   "execution_count": 45,
   "id": "d3617908-0bfc-4c60-8e33-47f678d571db",
   "metadata": {},
   "outputs": [],
   "source": [
    "for i, m in enumerate(matches):\n",
    "    globals()[\"기기별분포_주간_정보\"+str(i+1)] = pd.read_excel(\"raw/\" + m, nrows=7, usecols=[0,1], names=['column', 'value'], header=None)\n",
    "    globals()[\"기기별분포_주간\"+str(i+1)] = pd.read_excel(\"raw/\" + m, header=8)\n",
    "    date = '~'.join(re.findall(r'\\d{4}-\\d{2}-\\d{2}', m))\n",
    "    globals()[\"기기별분포_주간\"+str(i+1)]['기간'] = date"
   ]
  },
  {
   "cell_type": "code",
   "execution_count": 46,
   "id": "7f4840fa-af23-49a2-b940-402782c0e780",
   "metadata": {},
   "outputs": [],
   "source": [
    "pdList = []\n",
    "pdList.extend(value for name, value in locals().items() if name.startswith('기기별분포_주간') and not name.startswith('기기별분포_주간_정보'))"
   ]
  },
  {
   "cell_type": "code",
   "execution_count": 47,
   "id": "8b016dd0-3905-4c06-b340-282331d97576",
   "metadata": {},
   "outputs": [],
   "source": [
    "기기별분포_주간 = pd.concat(pdList, axis=0)"
   ]
  },
  {
   "cell_type": "code",
   "execution_count": 48,
   "id": "81d1bb67-d51e-4faa-b4bf-c684274bae20",
   "metadata": {},
   "outputs": [],
   "source": [
    "기기별분포_주간.to_csv('data/기기별분포_주간.csv', index=False)"
   ]
  },
  {
   "cell_type": "markdown",
   "id": "542224d4-2ab5-4259-82cf-24e0e6cbc9ad",
   "metadata": {},
   "source": [
    "## **이웃방문현황 데이터 전처리**"
   ]
  },
  {
   "cell_type": "markdown",
   "id": "651c11c6-7927-43aa-a600-9fb762ceeb10",
   "metadata": {},
   "source": [
    "### 주간"
   ]
  },
  {
   "cell_type": "code",
   "execution_count": 49,
   "id": "82cd81d0-8d6b-4bfd-b68c-e7bf3ae9b5bb",
   "metadata": {},
   "outputs": [
    {
     "data": {
      "text/plain": [
       "['이웃방문현황_주간_2021-12-27_2022-04-10_20220412_183959.xlsx',\n",
       " '이웃방문현황_주간_2021-12-27_2022-04-10_20220412_184038.xlsx',\n",
       " '이웃방문현황_주간_2021-12-27_2022-04-10_20220412_184044.xlsx']"
      ]
     },
     "execution_count": 49,
     "metadata": {},
     "output_type": "execute_result"
    }
   ],
   "source": [
    "matches = list(map(lambda x: x[0], filter(None, map(lambda x: re.findall(r'^이웃방문현황_주간.*', x), filenames))))\n",
    "matches"
   ]
  },
  {
   "cell_type": "code",
   "execution_count": 50,
   "id": "f487cb49-0f58-47b7-a973-180361a411a7",
   "metadata": {},
   "outputs": [],
   "source": [
    "for i, m in enumerate(matches):\n",
    "    globals()[\"이웃방문현황_주간_정보\"+str(i+1)] = pd.read_excel(\"raw/\" + m, nrows=7, usecols=[0,1], names=['column', 'value'], header=None)\n",
    "    globals()[\"이웃방문현황_주간\"+str(i+1)] = pd.read_excel(\"raw/\" + m, header=8, usecols=[0,2])\n",
    "    gubun = globals()[\"이웃방문현황_주간_정보\"+str(i+1)].loc[globals()[\"이웃방문현황_주간_정보\"+str(i+1)].column == '선택1', 'value'].iloc[0]\n",
    "    globals()[\"이웃방문현황_주간\"+str(i+1)].columns = ['기간', gubun+'_조회수']"
   ]
  },
  {
   "cell_type": "code",
   "execution_count": 51,
   "id": "03f7f442-7d28-41c1-8272-390dca40cb80",
   "metadata": {},
   "outputs": [],
   "source": [
    "dfs = [value for name, value in locals().items() if name.startswith('이웃방문현황_주간') and not name.startswith('이웃방문현황_주간_정보')]"
   ]
  },
  {
   "cell_type": "code",
   "execution_count": 52,
   "id": "d2b71b11-d9a9-41c2-81da-67e5578b72f0",
   "metadata": {},
   "outputs": [],
   "source": [
    "이웃방문현황_주간 = reduce(lambda left,right: pd.merge(left, right, on=['기간']), dfs)"
   ]
  },
  {
   "cell_type": "code",
   "execution_count": 53,
   "id": "bf27c793-47dd-4092-bc17-67bdf0fa5ad4",
   "metadata": {},
   "outputs": [],
   "source": [
    "이웃방문현황_주간.to_csv('data/이웃방문현황_주간.csv', index=False)"
   ]
  },
  {
   "cell_type": "markdown",
   "id": "be77fcde-16d2-4a53-b3ca-0282dd23df05",
   "metadata": {},
   "source": [
    "### 일간"
   ]
  },
  {
   "cell_type": "code",
   "execution_count": 54,
   "id": "932bdc8d-967b-4048-b08c-314a07b732d6",
   "metadata": {},
   "outputs": [
    {
     "data": {
      "text/plain": [
       "['이웃방문현황_일간_2022-01-12_2022-04-11_20220412_184131.xlsx',\n",
       " '이웃방문현황_일간_2022-01-12_2022-04-11_20220412_184136.xlsx',\n",
       " '이웃방문현황_일간_2022-01-12_2022-04-11_20220412_184141.xlsx']"
      ]
     },
     "execution_count": 54,
     "metadata": {},
     "output_type": "execute_result"
    }
   ],
   "source": [
    "matches = list(map(lambda x: x[0], filter(None, map(lambda x: re.findall(r'^이웃방문현황_일간.*', x), filenames))))\n",
    "matches"
   ]
  },
  {
   "cell_type": "code",
   "execution_count": 55,
   "id": "7f653e95-609c-402e-8a06-4f50dec51913",
   "metadata": {},
   "outputs": [],
   "source": [
    "for i, m in enumerate(matches):\n",
    "    globals()[\"이웃방문현황_일간_정보\"+str(i+1)] = pd.read_excel(\"raw/\" + m, nrows=7, usecols=[0,1], names=['column', 'value'], header=None)\n",
    "    globals()[\"이웃방문현황_일간\"+str(i+1)] = pd.read_excel(\"raw/\" + m, header=8)\n",
    "    gubun = globals()[\"이웃방문현황_일간_정보\"+str(i+1)].loc[globals()[\"이웃방문현황_일간_정보\"+str(i+1)].column == '선택1', 'value'].iloc[0]\n",
    "    globals()[\"이웃방문현황_일간\"+str(i+1)].columns = ['날짜', '요일', gubun+'_조회수']"
   ]
  },
  {
   "cell_type": "code",
   "execution_count": 56,
   "id": "f1b12092-a560-4948-921d-125c92c8e584",
   "metadata": {},
   "outputs": [],
   "source": [
    "dfs = [value for name, value in locals().items() if name.startswith('이웃방문현황_일간') and not name.startswith('이웃방문현황_일간_정보')]"
   ]
  },
  {
   "cell_type": "code",
   "execution_count": 57,
   "id": "533420d9-af3c-4774-b036-f987a7fde06c",
   "metadata": {},
   "outputs": [],
   "source": [
    "이웃방문현황_일간 = reduce(lambda left,right: pd.merge(left, right, on=['날짜', '요일']), dfs)"
   ]
  },
  {
   "cell_type": "code",
   "execution_count": 58,
   "id": "03504782-a54d-4fab-9c6e-b6006d15a13c",
   "metadata": {},
   "outputs": [],
   "source": [
    "이웃방문현황_일간.to_csv('data/이웃방문현황_일간.csv', index=False)"
   ]
  },
  {
   "cell_type": "markdown",
   "id": "c7677482-db4d-45ca-946b-45a7eac6f410",
   "metadata": {},
   "source": [
    "## **이웃증감수 데이터 전처리**"
   ]
  },
  {
   "cell_type": "markdown",
   "id": "9f1dbe05-9f9d-4739-af12-2142ed315d49",
   "metadata": {},
   "source": [
    "### 주간"
   ]
  },
  {
   "cell_type": "code",
   "execution_count": 59,
   "id": "f05e61f8-affa-4c37-b964-fd65fc2974e5",
   "metadata": {},
   "outputs": [
    {
     "data": {
      "text/plain": [
       "['이웃증감수_주간_2021-12-27_2022-04-10_20220412_184055.xlsx',\n",
       " '이웃증감수_주간_2021-12-27_2022-04-10_20220412_184100.xlsx',\n",
       " '이웃증감수_주간_2021-12-27_2022-04-10_20220412_184104.xlsx']"
      ]
     },
     "execution_count": 59,
     "metadata": {},
     "output_type": "execute_result"
    }
   ],
   "source": [
    "matches = list(map(lambda x: x[0], filter(None, map(lambda x: re.findall(r'^이웃증감수_주간.*', x), filenames))))\n",
    "matches"
   ]
  },
  {
   "cell_type": "code",
   "execution_count": 60,
   "id": "97e90635-5106-4b06-88c4-d9c34181d6a2",
   "metadata": {},
   "outputs": [],
   "source": [
    "for i, m in enumerate(matches):\n",
    "    globals()[\"이웃증감수_주간_정보\"+str(i+1)] = pd.read_excel(\"raw/\" + m, nrows=6, usecols=[0,1], names=['column', 'value'], header=None)\n",
    "    globals()[\"이웃증감수_주간\"+str(i+1)] = pd.read_excel(\"raw/\" + m, header=7, usecols=[0,2])"
   ]
  },
  {
   "cell_type": "code",
   "execution_count": 61,
   "id": "06d30b7a-ff87-4e19-b593-b50f7f458c37",
   "metadata": {},
   "outputs": [],
   "source": [
    "dfs = [value for name, value in locals().items() if name.startswith('이웃증감수_주간') and not name.startswith('이웃증감수_주간_정보')]"
   ]
  },
  {
   "cell_type": "code",
   "execution_count": 62,
   "id": "b0054f88-085c-4c30-9eaf-cdb6c403cc70",
   "metadata": {},
   "outputs": [],
   "source": [
    "이웃증감수_주간 = reduce(lambda left,right: pd.merge(left, right, on=['기간']), dfs)"
   ]
  },
  {
   "cell_type": "code",
   "execution_count": 63,
   "id": "6cd56727-30b3-4918-90cd-d165dbc7e4c2",
   "metadata": {},
   "outputs": [],
   "source": [
    "이웃증감수_주간.to_csv('data/이웃증감수_주간.csv', index=False)"
   ]
  },
  {
   "cell_type": "markdown",
   "id": "d8283159-1127-48b7-b4a4-d0c146d5e2b9",
   "metadata": {},
   "source": [
    "### 일간"
   ]
  },
  {
   "cell_type": "code",
   "execution_count": 64,
   "id": "d0f71761-f403-496b-8191-459c2da20549",
   "metadata": {},
   "outputs": [
    {
     "data": {
      "text/plain": [
       "['이웃증감수_일간_2022-01-12_2022-04-11_20220412_184149.xlsx',\n",
       " '이웃증감수_일간_2022-01-12_2022-04-11_20220412_184154.xlsx',\n",
       " '이웃증감수_일간_2022-01-12_2022-04-11_20220412_184158.xlsx']"
      ]
     },
     "execution_count": 64,
     "metadata": {},
     "output_type": "execute_result"
    }
   ],
   "source": [
    "matches = list(map(lambda x: x[0], filter(None, map(lambda x: re.findall(r'^이웃증감수_일간.*', x), filenames))))\n",
    "matches"
   ]
  },
  {
   "cell_type": "code",
   "execution_count": 65,
   "id": "d35a022d-55d7-40d6-90fb-88bd36b58390",
   "metadata": {},
   "outputs": [],
   "source": [
    "for i, m in enumerate(matches):\n",
    "    globals()[\"이웃증감수_일간_정보\"+str(i+1)] = pd.read_excel(\"raw/\" + m, nrows=6, usecols=[0,1], names=['column', 'value'], header=None)\n",
    "    globals()[\"이웃증감수_일간\"+str(i+1)] = pd.read_excel(\"raw/\" + m, header=7)"
   ]
  },
  {
   "cell_type": "code",
   "execution_count": 66,
   "id": "f9c4291c-78af-4568-899e-bd60ab8f9d36",
   "metadata": {},
   "outputs": [],
   "source": [
    "dfs = [value for name, value in locals().items() if name.startswith('이웃증감수_일간') and not name.startswith('이웃증감수_일간_정보')]"
   ]
  },
  {
   "cell_type": "code",
   "execution_count": 67,
   "id": "cc14f73b-8b20-4ee8-b435-88f94770fd9c",
   "metadata": {},
   "outputs": [],
   "source": [
    "이웃증감수_일간 = reduce(lambda left,right: pd.merge(left, right, on=['날짜', '요일']), dfs)"
   ]
  },
  {
   "cell_type": "code",
   "execution_count": 68,
   "id": "a7970091-2bf7-4cb4-bde9-5e4b947e0009",
   "metadata": {},
   "outputs": [],
   "source": [
    "이웃증감수_일간.to_csv('data/이웃증감수_일간.csv', index=False)"
   ]
  },
  {
   "cell_type": "markdown",
   "id": "bafee35a-0bb3-43a8-8373-b41c1914d216",
   "metadata": {},
   "source": [
    "## **조회수순위 데이터 전처리**"
   ]
  },
  {
   "cell_type": "markdown",
   "id": "5c6d6f99-6e92-4cd1-9670-1d3a4dc10d72",
   "metadata": {},
   "source": [
    "### 주간"
   ]
  },
  {
   "cell_type": "code",
   "execution_count": 69,
   "id": "0aeac299-da39-427a-abe6-1a00c175f380",
   "metadata": {},
   "outputs": [
    {
     "data": {
      "text/plain": [
       "['조회수_순위_주간_2021-12-27_2022-01-02_20220412_184543.xlsx',\n",
       " '조회수_순위_주간_2022-01-03_2022-01-09_20220412_184538.xlsx',\n",
       " '조회수_순위_주간_2022-01-10_2022-01-16_20220412_184533.xlsx',\n",
       " '조회수_순위_주간_2022-01-17_2022-01-23_20220412_184527.xlsx',\n",
       " '조회수_순위_주간_2022-01-24_2022-01-30_20220412_184522.xlsx',\n",
       " '조회수_순위_주간_2022-01-31_2022-02-06_20220412_184517.xlsx',\n",
       " '조회수_순위_주간_2022-02-07_2022-02-13_20220412_184512.xlsx',\n",
       " '조회수_순위_주간_2022-02-14_2022-02-20_20220412_184507.xlsx',\n",
       " '조회수_순위_주간_2022-02-21_2022-02-27_20220412_184501.xlsx',\n",
       " '조회수_순위_주간_2022-02-28_2022-03-06_20220412_184455.xlsx',\n",
       " '조회수_순위_주간_2022-03-07_2022-03-13_20220412_184448.xlsx',\n",
       " '조회수_순위_주간_2022-03-14_2022-03-20_20220412_184402.xlsx',\n",
       " '조회수_순위_주간_2022-03-21_2022-03-27_20220412_184355.xlsx',\n",
       " '조회수_순위_주간_2022-03-28_2022-04-03_20220412_184349.xlsx',\n",
       " '조회수_순위_주간_2022-04-04_2022-04-10_20220412_184342.xlsx']"
      ]
     },
     "execution_count": 69,
     "metadata": {},
     "output_type": "execute_result"
    }
   ],
   "source": [
    "matches = list(map(lambda x: x[0], filter(None, map(lambda x: re.findall(r'^조회수_순위_주간.*', x), filenames))))\n",
    "matches"
   ]
  },
  {
   "cell_type": "code",
   "execution_count": 70,
   "id": "ac7a02cd-37e9-48f1-b495-568e14f3d40c",
   "metadata": {},
   "outputs": [],
   "source": [
    "for i, m in enumerate(matches):\n",
    "    globals()[\"조회수_순위_주간_정보\"+str(i+1)] = pd.read_excel(\"raw/\" + m, nrows=6, usecols=[0,1], names=['column', 'value'], header=None)\n",
    "    globals()[\"조회수_순위_주간\"+str(i+1)] = pd.read_excel(\"raw/\" + m, header=7)\n",
    "    date = '~'.join(re.findall(r'\\d{4}-\\d{2}-\\d{2}', m))\n",
    "    globals()[\"조회수_순위_주간\"+str(i+1)]['기간'] = date"
   ]
  },
  {
   "cell_type": "code",
   "execution_count": 71,
   "id": "ef890cd8-31ee-4d7a-bb85-ba02f2036e2b",
   "metadata": {},
   "outputs": [],
   "source": [
    "pdList = []\n",
    "pdList.extend(value for name, value in locals().items() if name.startswith('조회수_순위_주간') and not name.startswith('조회수_순위_주간_정보'))"
   ]
  },
  {
   "cell_type": "code",
   "execution_count": 72,
   "id": "98c351d2-dbe2-4bf9-b0c2-f0e586a78e5b",
   "metadata": {},
   "outputs": [],
   "source": [
    "조회수_순위_주간 = pd.concat(pdList, axis=0)"
   ]
  },
  {
   "cell_type": "code",
   "execution_count": 73,
   "id": "45b6b8ed-60b8-461c-9b5b-6c6d21ab2078",
   "metadata": {},
   "outputs": [],
   "source": [
    "조회수_순위_주간.to_csv('data/조회수_순위_주간.csv', index=False)"
   ]
  },
  {
   "cell_type": "markdown",
   "id": "83a74fdd-1c94-41f9-9964-6f99773af98b",
   "metadata": {
    "tags": []
   },
   "source": [
    "## **공감수순위 데이터 전처리**"
   ]
  },
  {
   "cell_type": "markdown",
   "id": "9c61ed2d-b7c7-4e5a-b4c0-65b7d7fe4910",
   "metadata": {},
   "source": [
    "### 주간"
   ]
  },
  {
   "cell_type": "code",
   "execution_count": 74,
   "id": "5ca3cbb8-4c91-4472-89f9-996c8a540257",
   "metadata": {},
   "outputs": [
    {
     "data": {
      "text/plain": [
       "['공감수_순위_주간_2021-12-27_2022-01-02_20220412_184746.xlsx',\n",
       " '공감수_순위_주간_2022-01-03_2022-01-09_20220412_184741.xlsx',\n",
       " '공감수_순위_주간_2022-01-10_2022-01-16_20220412_184735.xlsx',\n",
       " '공감수_순위_주간_2022-01-17_2022-01-23_20220412_184729.xlsx',\n",
       " '공감수_순위_주간_2022-01-24_2022-01-30_20220412_184718.xlsx',\n",
       " '공감수_순위_주간_2022-01-31_2022-02-06_20220412_184712.xlsx',\n",
       " '공감수_순위_주간_2022-02-07_2022-02-13_20220412_184706.xlsx',\n",
       " '공감수_순위_주간_2022-02-14_2022-02-20_20220412_184701.xlsx',\n",
       " '공감수_순위_주간_2022-02-21_2022-02-27_20220412_184655.xlsx',\n",
       " '공감수_순위_주간_2022-02-28_2022-03-06_20220412_184650.xlsx',\n",
       " '공감수_순위_주간_2022-03-07_2022-03-13_20220412_184645.xlsx',\n",
       " '공감수_순위_주간_2022-03-14_2022-03-20_20220412_184640.xlsx',\n",
       " '공감수_순위_주간_2022-03-21_2022-03-27_20220412_184635.xlsx',\n",
       " '공감수_순위_주간_2022-03-28_2022-04-03_20220412_184629.xlsx',\n",
       " '공감수_순위_주간_2022-04-04_2022-04-10_20220412_184600.xlsx']"
      ]
     },
     "execution_count": 74,
     "metadata": {},
     "output_type": "execute_result"
    }
   ],
   "source": [
    "matches = list(map(lambda x: x[0], filter(None, map(lambda x: re.findall(r'^공감수_순위_주간.*', x), filenames))))\n",
    "matches"
   ]
  },
  {
   "cell_type": "code",
   "execution_count": 75,
   "id": "0d325b21-369f-46e2-be12-f48c3d17bbb7",
   "metadata": {},
   "outputs": [],
   "source": [
    "for i, m in enumerate(matches):\n",
    "    globals()[\"공감수_순위_주간_정보\"+str(i+1)] = pd.read_excel(\"raw/\" + m, nrows=5, usecols=[0,1], names=['column', 'value'], header=None)\n",
    "    globals()[\"공감수_순위_주간\"+str(i+1)] = pd.read_excel(\"raw/\" + m, header=6)\n",
    "    date = '~'.join(re.findall(r'\\d{4}-\\d{2}-\\d{2}', m))\n",
    "    globals()[\"공감수_순위_주간\"+str(i+1)]['기간'] = date"
   ]
  },
  {
   "cell_type": "code",
   "execution_count": 76,
   "id": "a86d9249-a684-4de9-a3da-346704853b78",
   "metadata": {},
   "outputs": [],
   "source": [
    "pdList = []\n",
    "pdList.extend(value for name, value in locals().items() if name.startswith('공감수_순위_주간') and not name.startswith('공감수_순위_주간_정보'))"
   ]
  },
  {
   "cell_type": "code",
   "execution_count": 77,
   "id": "4b735d46-06ae-4a2b-a2b1-f781fce55175",
   "metadata": {},
   "outputs": [],
   "source": [
    "공감수_순위_주간 = pd.concat(pdList, axis=0)"
   ]
  },
  {
   "cell_type": "code",
   "execution_count": 78,
   "id": "e457bc5b-2af1-4596-b891-611b5dcec7c0",
   "metadata": {},
   "outputs": [],
   "source": [
    "공감수_순위_주간.to_csv('data/공감수_순위_주간.csv', index=False)"
   ]
  }
 ],
 "metadata": {
  "kernelspec": {
   "display_name": "Python 3 (ipykernel)",
   "language": "python",
   "name": "python3"
  },
  "language_info": {
   "codemirror_mode": {
    "name": "ipython",
    "version": 3
   },
   "file_extension": ".py",
   "mimetype": "text/x-python",
   "name": "python",
   "nbconvert_exporter": "python",
   "pygments_lexer": "ipython3",
   "version": "3.9.7"
  }
 },
 "nbformat": 4,
 "nbformat_minor": 5
}
