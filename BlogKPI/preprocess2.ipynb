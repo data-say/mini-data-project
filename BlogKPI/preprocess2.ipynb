{
 "cells": [
  {
   "cell_type": "markdown",
   "id": "7683291c-312a-4b6d-b884-7b4523f4c163",
   "metadata": {},
   "source": [
    "# **데이터 2차 전처리**"
   ]
  },
  {
   "cell_type": "code",
   "execution_count": 1,
   "id": "5c931102-6ee1-4e24-b439-dc592b1e8a32",
   "metadata": {},
   "outputs": [],
   "source": [
    "import pandas as pd\n",
    "import numpy as np\n",
    "from functools import reduce\n",
    "import warnings\n",
    "warnings.filterwarnings(action='ignore')"
   ]
  },
  {
   "cell_type": "code",
   "execution_count": 2,
   "id": "498f0192-2300-4882-a21f-5f0821871491",
   "metadata": {},
   "outputs": [],
   "source": [
    "import re\n",
    "from os import walk\n",
    "filenames = next(walk(\"./data/\"), (None, None, []))[2]"
   ]
  },
  {
   "cell_type": "code",
   "execution_count": 3,
   "id": "574067f1-8ce9-4eb5-ad8a-ff92dc3ebbf9",
   "metadata": {},
   "outputs": [
    {
     "data": {
      "text/plain": [
       "['공감수_순위_주간.csv',\n",
       " '기기별분포_주간.csv',\n",
       " '방문횟수_일간.csv',\n",
       " '방문횟수_주간.csv',\n",
       " '성연령별분포_주간.csv',\n",
       " '순방문자수_일간.csv',\n",
       " '순방문자수_주간.csv',\n",
       " '유입분석_주간.csv',\n",
       " '이웃방문현황_일간.csv',\n",
       " '이웃방문현황_주간.csv',\n",
       " '이웃증감수_일간.csv',\n",
       " '이웃증감수_주간.csv',\n",
       " '일간.csv',\n",
       " '재방문율_주간.csv',\n",
       " '조회수_순위_주간.csv',\n",
       " '조회수_일간.csv',\n",
       " '조회수_주간.csv',\n",
       " '주간.csv',\n",
       " '평균방문횟수_주간.csv',\n",
       " '평균사용시간_일간.csv',\n",
       " '평균사용시간_주간.csv']"
      ]
     },
     "execution_count": 3,
     "metadata": {},
     "output_type": "execute_result"
    }
   ],
   "source": [
    "filenames"
   ]
  },
  {
   "cell_type": "markdown",
   "id": "961e3256-72e3-4dea-a97c-77bb9922e1e7",
   "metadata": {},
   "source": [
    "## **주간 데이터 전처리**"
   ]
  },
  {
   "cell_type": "code",
   "execution_count": 4,
   "id": "cde35f22-b257-4e13-a12d-8bdee03059b3",
   "metadata": {},
   "outputs": [
    {
     "data": {
      "text/plain": [
       "['공감수_순위_주간.csv',\n",
       " '기기별분포_주간.csv',\n",
       " '방문횟수_주간.csv',\n",
       " '성연령별분포_주간.csv',\n",
       " '순방문자수_주간.csv',\n",
       " '유입분석_주간.csv',\n",
       " '이웃방문현황_주간.csv',\n",
       " '이웃증감수_주간.csv',\n",
       " '재방문율_주간.csv',\n",
       " '조회수_순위_주간.csv',\n",
       " '조회수_주간.csv',\n",
       " '평균방문횟수_주간.csv',\n",
       " '평균사용시간_주간.csv']"
      ]
     },
     "execution_count": 4,
     "metadata": {},
     "output_type": "execute_result"
    }
   ],
   "source": [
    "matches = list(map(lambda x: x[0], filter(None, map(lambda x: re.findall(r'.*_주간.*', x), filenames))))\n",
    "matches"
   ]
  },
  {
   "cell_type": "code",
   "execution_count": 5,
   "id": "f5ba9732-2e5d-4c41-b945-c2e6d2c81e31",
   "metadata": {},
   "outputs": [],
   "source": [
    "방문횟수_주간 = pd.read_csv('data/방문횟수_주간.csv')\n",
    "순방문자수_주간 = pd.read_csv('data/순방문자수_주간.csv')\n",
    "순방문자수_주간.columns=['기간', '순방문자수_전체', '순방문자수_피이웃', '순방문자수_서로이웃', '순방문자수_기타']\n",
    "이웃방문현황_주간 = pd.read_csv('data/이웃방문현황_주간.csv')\n",
    "이웃증감수_주간 = pd.read_csv('data/이웃증감수_주간.csv')\n",
    "재방문율_주간 = pd.read_csv('data/재방문율_주간.csv')\n",
    "평균방문횟수_주간 = pd.read_csv('data/평균방문횟수_주간.csv')\n",
    "평균방문횟수_주간.columns=['기간', '평균방문횟수']\n",
    "평균사용시간_주간 = pd.read_csv('data/평균사용시간_주간.csv')\n",
    "평균사용시간_주간.columns=['기간', '평균사용시간']"
   ]
  },
  {
   "cell_type": "code",
   "execution_count": 6,
   "id": "76e3a8d5-a8b0-4dc0-9369-0875e38922c7",
   "metadata": {},
   "outputs": [],
   "source": [
    "dfs = [value for name, value in locals().items() if name.endswith('_주간')]"
   ]
  },
  {
   "cell_type": "code",
   "execution_count": 7,
   "id": "d4cb0c24-c97d-4ebf-8989-a374df9a0148",
   "metadata": {},
   "outputs": [],
   "source": [
    "주간데이터 = reduce(lambda left,right: pd.merge(left, right, on=['기간']), dfs)"
   ]
  },
  {
   "cell_type": "code",
   "execution_count": 8,
   "id": "d7a4e200-9262-4c1f-b214-aa11fadf9a6a",
   "metadata": {},
   "outputs": [],
   "source": [
    "주간데이터.to_csv('data/주간.csv', index=False)"
   ]
  },
  {
   "cell_type": "markdown",
   "id": "3f4b353d-4fb8-40b0-9034-3a978e24c285",
   "metadata": {},
   "source": [
    "## **일간 데이터 전처리**"
   ]
  },
  {
   "cell_type": "code",
   "execution_count": 9,
   "id": "cb1987ba-488c-4f1f-92ee-3fd8ab5a77f9",
   "metadata": {},
   "outputs": [
    {
     "data": {
      "text/plain": [
       "['방문횟수_일간.csv',\n",
       " '순방문자수_일간.csv',\n",
       " '이웃방문현황_일간.csv',\n",
       " '이웃증감수_일간.csv',\n",
       " '조회수_일간.csv',\n",
       " '평균사용시간_일간.csv']"
      ]
     },
     "execution_count": 9,
     "metadata": {},
     "output_type": "execute_result"
    }
   ],
   "source": [
    "matches = list(map(lambda x: x[0], filter(None, map(lambda x: re.findall(r'.*_일간.*', x), filenames))))\n",
    "matches"
   ]
  },
  {
   "cell_type": "code",
   "execution_count": 10,
   "id": "36523234-150c-45d2-8557-fb9ac358ae71",
   "metadata": {},
   "outputs": [],
   "source": [
    "방문횟수_일간 = pd.read_csv('data/방문횟수_일간.csv')\n",
    "순방문자수_일간 = pd.read_csv('data/순방문자수_일간.csv')\n",
    "순방문자수_일간.columns=['날짜', '요일', '순방문자수_전체', '순방문자수_피이웃', '순방문자수_서로이웃', '순방문자수_기타']\n",
    "이웃방문현황_일간 = pd.read_csv('data/이웃방문현황_일간.csv')\n",
    "이웃증감수_일간 = pd.read_csv('data/이웃증감수_일간.csv')\n",
    "평균사용시간_일간 = pd.read_csv('data/평균사용시간_일간.csv')\n",
    "평균사용시간_일간.columns=['날짜', '요일', '평균사용시간']"
   ]
  },
  {
   "cell_type": "code",
   "execution_count": 11,
   "id": "31290e43-bb62-4baf-9ab8-58ab3e57b6c4",
   "metadata": {},
   "outputs": [],
   "source": [
    "dfs = [value for name, value in locals().items() if name.endswith('_일간')]"
   ]
  },
  {
   "cell_type": "code",
   "execution_count": 12,
   "id": "485c2008-0ab7-48b2-8219-1e98a5b28345",
   "metadata": {},
   "outputs": [],
   "source": [
    "일간데이터 = reduce(lambda left,right: pd.merge(left, right, on=['날짜', '요일']), dfs)"
   ]
  },
  {
   "cell_type": "markdown",
   "id": "d5cd5b62-8778-4959-a1d6-101a46dd17d0",
   "metadata": {},
   "source": [
    "## **주간-일간 매핑**"
   ]
  },
  {
   "cell_type": "code",
   "execution_count": 22,
   "id": "925529b8-3b56-405b-86ef-d47dec322845",
   "metadata": {},
   "outputs": [],
   "source": [
    "주간데이터['min기간'] = 주간데이터.기간.str.slice(0, 10)\n",
    "주간데이터['max기간'] = 주간데이터.기간.str.slice(11, )"
   ]
  },
  {
   "cell_type": "code",
   "execution_count": 27,
   "id": "494b6d03-8837-4ba3-80d9-659c76c953d7",
   "metadata": {},
   "outputs": [],
   "source": [
    "a = 일간데이터.날짜.values\n",
    "bh = 주간데이터.max기간.values\n",
    "bl = 주간데이터.min기간.values\n",
    "\n",
    "i, j = np.where((a[:, None] >= bl) & (a[:, None] <= bh))\n",
    "\n",
    "일간데이터2 = pd.concat([\n",
    "    일간데이터.loc[i, :].reset_index(drop=True),\n",
    "    주간데이터.loc[j, '기간'].reset_index(drop=True)\n",
    "], axis=1)"
   ]
  },
  {
   "cell_type": "code",
   "execution_count": 36,
   "id": "b581ad11-d9ca-406a-9eba-37feef605ca5",
   "metadata": {},
   "outputs": [],
   "source": [
    "일간데이터2.to_csv('data/일간.csv', index=False)"
   ]
  }
 ],
 "metadata": {
  "kernelspec": {
   "display_name": "Python 3 (ipykernel)",
   "language": "python",
   "name": "python3"
  },
  "language_info": {
   "codemirror_mode": {
    "name": "ipython",
    "version": 3
   },
   "file_extension": ".py",
   "mimetype": "text/x-python",
   "name": "python",
   "nbconvert_exporter": "python",
   "pygments_lexer": "ipython3",
   "version": "3.9.7"
  }
 },
 "nbformat": 4,
 "nbformat_minor": 5
}
