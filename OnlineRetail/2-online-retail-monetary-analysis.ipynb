{
 "cells": [
  {
   "cell_type": "markdown",
   "id": "e08472cf-6aeb-40ec-9674-df4e2db0c591",
   "metadata": {},
   "source": [
    "# **쇼핑몰 주문 데이터 분석 - 매출 분석**"
   ]
  },
  {
   "cell_type": "code",
   "execution_count": 1,
   "id": "bebbbff1-b82c-4730-83c3-de51d67f98de",
   "metadata": {},
   "outputs": [],
   "source": [
    "import pandas as pd\n",
    "import numpy as np\n",
    "\n",
    "import matplotlib.pyplot as plt\n",
    "import seaborn as sns\n",
    "\n",
    "import warnings\n",
    "warnings.filterwarnings(\"ignore\")"
   ]
  },
  {
   "cell_type": "code",
   "execution_count": 2,
   "id": "1472ea2b-8115-4cdf-ba50-0e93678da6c5",
   "metadata": {},
   "outputs": [
    {
     "data": {
      "text/html": [
       "<div>\n",
       "<style scoped>\n",
       "    .dataframe tbody tr th:only-of-type {\n",
       "        vertical-align: middle;\n",
       "    }\n",
       "\n",
       "    .dataframe tbody tr th {\n",
       "        vertical-align: top;\n",
       "    }\n",
       "\n",
       "    .dataframe thead th {\n",
       "        text-align: right;\n",
       "    }\n",
       "</style>\n",
       "<table border=\"1\" class=\"dataframe\">\n",
       "  <thead>\n",
       "    <tr style=\"text-align: right;\">\n",
       "      <th></th>\n",
       "      <th>InvoiceNo</th>\n",
       "      <th>StockCode</th>\n",
       "      <th>Description</th>\n",
       "      <th>Quantity</th>\n",
       "      <th>InvoiceDate</th>\n",
       "      <th>UnitPrice</th>\n",
       "      <th>CustomerID</th>\n",
       "      <th>Country</th>\n",
       "      <th>InvoiceHour</th>\n",
       "      <th>InvoiceWeekday</th>\n",
       "      <th>InvoiceDay</th>\n",
       "      <th>InvoiceMonth</th>\n",
       "      <th>InvoiceYear</th>\n",
       "      <th>Amount</th>\n",
       "    </tr>\n",
       "  </thead>\n",
       "  <tbody>\n",
       "    <tr>\n",
       "      <th>0</th>\n",
       "      <td>536365</td>\n",
       "      <td>85123A</td>\n",
       "      <td>WHITE HANGING HEART T-LIGHT HOLDER</td>\n",
       "      <td>6</td>\n",
       "      <td>2010-12-01 08:26:00</td>\n",
       "      <td>2.55</td>\n",
       "      <td>17850</td>\n",
       "      <td>United Kingdom</td>\n",
       "      <td>8</td>\n",
       "      <td>Wednesday</td>\n",
       "      <td>1</td>\n",
       "      <td>12</td>\n",
       "      <td>2010</td>\n",
       "      <td>15.30</td>\n",
       "    </tr>\n",
       "    <tr>\n",
       "      <th>1</th>\n",
       "      <td>536365</td>\n",
       "      <td>71053</td>\n",
       "      <td>WHITE METAL LANTERN</td>\n",
       "      <td>6</td>\n",
       "      <td>2010-12-01 08:26:00</td>\n",
       "      <td>3.39</td>\n",
       "      <td>17850</td>\n",
       "      <td>United Kingdom</td>\n",
       "      <td>8</td>\n",
       "      <td>Wednesday</td>\n",
       "      <td>1</td>\n",
       "      <td>12</td>\n",
       "      <td>2010</td>\n",
       "      <td>20.34</td>\n",
       "    </tr>\n",
       "    <tr>\n",
       "      <th>2</th>\n",
       "      <td>536365</td>\n",
       "      <td>84406B</td>\n",
       "      <td>CREAM CUPID HEARTS COAT HANGER</td>\n",
       "      <td>8</td>\n",
       "      <td>2010-12-01 08:26:00</td>\n",
       "      <td>2.75</td>\n",
       "      <td>17850</td>\n",
       "      <td>United Kingdom</td>\n",
       "      <td>8</td>\n",
       "      <td>Wednesday</td>\n",
       "      <td>1</td>\n",
       "      <td>12</td>\n",
       "      <td>2010</td>\n",
       "      <td>22.00</td>\n",
       "    </tr>\n",
       "    <tr>\n",
       "      <th>3</th>\n",
       "      <td>536365</td>\n",
       "      <td>84029G</td>\n",
       "      <td>KNITTED UNION FLAG HOT WATER BOTTLE</td>\n",
       "      <td>6</td>\n",
       "      <td>2010-12-01 08:26:00</td>\n",
       "      <td>3.39</td>\n",
       "      <td>17850</td>\n",
       "      <td>United Kingdom</td>\n",
       "      <td>8</td>\n",
       "      <td>Wednesday</td>\n",
       "      <td>1</td>\n",
       "      <td>12</td>\n",
       "      <td>2010</td>\n",
       "      <td>20.34</td>\n",
       "    </tr>\n",
       "    <tr>\n",
       "      <th>4</th>\n",
       "      <td>536365</td>\n",
       "      <td>84029E</td>\n",
       "      <td>RED WOOLLY HOTTIE WHITE HEART.</td>\n",
       "      <td>6</td>\n",
       "      <td>2010-12-01 08:26:00</td>\n",
       "      <td>3.39</td>\n",
       "      <td>17850</td>\n",
       "      <td>United Kingdom</td>\n",
       "      <td>8</td>\n",
       "      <td>Wednesday</td>\n",
       "      <td>1</td>\n",
       "      <td>12</td>\n",
       "      <td>2010</td>\n",
       "      <td>20.34</td>\n",
       "    </tr>\n",
       "  </tbody>\n",
       "</table>\n",
       "</div>"
      ],
      "text/plain": [
       "   InvoiceNo StockCode                          Description  Quantity  \\\n",
       "0     536365    85123A   WHITE HANGING HEART T-LIGHT HOLDER         6   \n",
       "1     536365     71053                  WHITE METAL LANTERN         6   \n",
       "2     536365    84406B       CREAM CUPID HEARTS COAT HANGER         8   \n",
       "3     536365    84029G  KNITTED UNION FLAG HOT WATER BOTTLE         6   \n",
       "4     536365    84029E       RED WOOLLY HOTTIE WHITE HEART.         6   \n",
       "\n",
       "           InvoiceDate  UnitPrice  CustomerID         Country  InvoiceHour  \\\n",
       "0  2010-12-01 08:26:00       2.55       17850  United Kingdom            8   \n",
       "1  2010-12-01 08:26:00       3.39       17850  United Kingdom            8   \n",
       "2  2010-12-01 08:26:00       2.75       17850  United Kingdom            8   \n",
       "3  2010-12-01 08:26:00       3.39       17850  United Kingdom            8   \n",
       "4  2010-12-01 08:26:00       3.39       17850  United Kingdom            8   \n",
       "\n",
       "  InvoiceWeekday  InvoiceDay  InvoiceMonth  InvoiceYear  Amount  \n",
       "0      Wednesday           1            12         2010   15.30  \n",
       "1      Wednesday           1            12         2010   20.34  \n",
       "2      Wednesday           1            12         2010   22.00  \n",
       "3      Wednesday           1            12         2010   20.34  \n",
       "4      Wednesday           1            12         2010   20.34  "
      ]
     },
     "execution_count": 2,
     "metadata": {},
     "output_type": "execute_result"
    }
   ],
   "source": [
    "data = pd.read_csv('data/OnlineRetail2.csv')\n",
    "data.head()"
   ]
  },
  {
   "cell_type": "code",
   "execution_count": 3,
   "id": "3231e5c5-05db-44f7-9469-5d8c45ab23bd",
   "metadata": {},
   "outputs": [
    {
     "name": "stdout",
     "output_type": "stream",
     "text": [
      "<class 'pandas.core.frame.DataFrame'>\n",
      "RangeIndex: 397884 entries, 0 to 397883\n",
      "Data columns (total 14 columns):\n",
      " #   Column          Non-Null Count   Dtype  \n",
      "---  ------          --------------   -----  \n",
      " 0   InvoiceNo       397884 non-null  int64  \n",
      " 1   StockCode       397884 non-null  object \n",
      " 2   Description     397884 non-null  object \n",
      " 3   Quantity        397884 non-null  int64  \n",
      " 4   InvoiceDate     397884 non-null  object \n",
      " 5   UnitPrice       397884 non-null  float64\n",
      " 6   CustomerID      397884 non-null  int64  \n",
      " 7   Country         397884 non-null  object \n",
      " 8   InvoiceHour     397884 non-null  int64  \n",
      " 9   InvoiceWeekday  397884 non-null  object \n",
      " 10  InvoiceDay      397884 non-null  int64  \n",
      " 11  InvoiceMonth    397884 non-null  int64  \n",
      " 12  InvoiceYear     397884 non-null  int64  \n",
      " 13  Amount          397884 non-null  float64\n",
      "dtypes: float64(2), int64(7), object(5)\n",
      "memory usage: 42.5+ MB\n"
     ]
    }
   ],
   "source": [
    "data.info()"
   ]
  },
  {
   "cell_type": "code",
   "execution_count": 4,
   "id": "525f3542-313e-47c4-83ba-2e25fce7c071",
   "metadata": {},
   "outputs": [],
   "source": [
    "data['InvoiceDate'] = pd.to_datetime(data['InvoiceDate'])"
   ]
  },
  {
   "cell_type": "markdown",
   "id": "5f6850f5-013e-432b-9c26-3473e311d940",
   "metadata": {},
   "source": [
    "## **전체 매출 분석**"
   ]
  },
  {
   "cell_type": "code",
   "execution_count": 5,
   "id": "20833857-34ac-4df5-8bec-2c5b44c95abd",
   "metadata": {},
   "outputs": [
    {
     "data": {
      "text/plain": [
       "8911407.904"
      ]
     },
     "execution_count": 5,
     "metadata": {},
     "output_type": "execute_result"
    }
   ],
   "source": [
    "## 전체 매출\n",
    "total_monetary = data['Amount'].sum()\n",
    "total_monetary"
   ]
  },
  {
   "cell_type": "markdown",
   "id": "9da469ad-dc92-45f7-95e6-ea69c360b1e3",
   "metadata": {},
   "source": [
    "## **월별 매출 분석**"
   ]
  },
  {
   "cell_type": "code",
   "execution_count": 6,
   "id": "8c463abf-ce5f-415a-a9eb-5f0d2f6d5190",
   "metadata": {},
   "outputs": [],
   "source": [
    "data['InvoiceYM'] = data['InvoiceDate'].dt.strftime('%Y%m')"
   ]
  },
  {
   "cell_type": "code",
   "execution_count": 7,
   "id": "ae656f5b-218a-4431-b710-b89c68451de9",
   "metadata": {},
   "outputs": [
    {
     "data": {
      "image/png": "[encoded data removed]",
      "text/plain": [
       "<Figure size 432x288 with 1 Axes>"
      ]
     },
     "metadata": {
      "needs_background": "light"
     },
     "output_type": "display_data"
    }
   ],
   "source": [
    "## 매출 추이\n",
    "group = data.groupby(['InvoiceYM'], as_index=False)['Amount'].sum()\n",
    "ax = sns.lineplot(x = 'InvoiceYM', y = 'Amount', data = group)\n",
    "ax.tick_params(axis='x', labelrotation=45)\n",
    "plt.show()"
   ]
  },
  {
   "cell_type": "markdown",
   "id": "f1f402e8-630d-4353-b5c2-0e5901c99dfe",
   "metadata": {},
   "source": [
    "- 2011년 9, 10, 11월에 매출이 급격히 늘어난 후 12월에 급격히 줄었다."
   ]
  },
  {
   "cell_type": "code",
   "execution_count": 8,
   "id": "f8ef6fe9-05a2-40fc-945c-3da80096d4b8",
   "metadata": {},
   "outputs": [
    {
     "data": {
      "text/html": [
       "<div>\n",
       "<style scoped>\n",
       "    .dataframe tbody tr th:only-of-type {\n",
       "        vertical-align: middle;\n",
       "    }\n",
       "\n",
       "    .dataframe tbody tr th {\n",
       "        vertical-align: top;\n",
       "    }\n",
       "\n",
       "    .dataframe thead th {\n",
       "        text-align: right;\n",
       "    }\n",
       "</style>\n",
       "<table border=\"1\" class=\"dataframe\">\n",
       "  <thead>\n",
       "    <tr style=\"text-align: right;\">\n",
       "      <th></th>\n",
       "      <th>InvoiceYear</th>\n",
       "      <th>InvoiceMonth</th>\n",
       "      <th>InvoiceDay</th>\n",
       "    </tr>\n",
       "  </thead>\n",
       "  <tbody>\n",
       "    <tr>\n",
       "      <th>0</th>\n",
       "      <td>2010</td>\n",
       "      <td>12</td>\n",
       "      <td>1</td>\n",
       "    </tr>\n",
       "    <tr>\n",
       "      <th>1942</th>\n",
       "      <td>2010</td>\n",
       "      <td>12</td>\n",
       "      <td>2</td>\n",
       "    </tr>\n",
       "    <tr>\n",
       "      <th>3942</th>\n",
       "      <td>2010</td>\n",
       "      <td>12</td>\n",
       "      <td>3</td>\n",
       "    </tr>\n",
       "    <tr>\n",
       "      <th>5045</th>\n",
       "      <td>2010</td>\n",
       "      <td>12</td>\n",
       "      <td>5</td>\n",
       "    </tr>\n",
       "    <tr>\n",
       "      <th>7752</th>\n",
       "      <td>2010</td>\n",
       "      <td>12</td>\n",
       "      <td>6</td>\n",
       "    </tr>\n",
       "    <tr>\n",
       "      <th>...</th>\n",
       "      <td>...</td>\n",
       "      <td>...</td>\n",
       "      <td>...</td>\n",
       "    </tr>\n",
       "    <tr>\n",
       "      <th>386640</th>\n",
       "      <td>2011</td>\n",
       "      <td>12</td>\n",
       "      <td>5</td>\n",
       "    </tr>\n",
       "    <tr>\n",
       "      <th>390014</th>\n",
       "      <td>2011</td>\n",
       "      <td>12</td>\n",
       "      <td>6</td>\n",
       "    </tr>\n",
       "    <tr>\n",
       "      <th>392568</th>\n",
       "      <td>2011</td>\n",
       "      <td>12</td>\n",
       "      <td>7</td>\n",
       "    </tr>\n",
       "    <tr>\n",
       "      <th>394735</th>\n",
       "      <td>2011</td>\n",
       "      <td>12</td>\n",
       "      <td>8</td>\n",
       "    </tr>\n",
       "    <tr>\n",
       "      <th>397267</th>\n",
       "      <td>2011</td>\n",
       "      <td>12</td>\n",
       "      <td>9</td>\n",
       "    </tr>\n",
       "  </tbody>\n",
       "</table>\n",
       "<p>305 rows × 3 columns</p>\n",
       "</div>"
      ],
      "text/plain": [
       "        InvoiceYear  InvoiceMonth  InvoiceDay\n",
       "0              2010            12           1\n",
       "1942           2010            12           2\n",
       "3942           2010            12           3\n",
       "5045           2010            12           5\n",
       "7752           2010            12           6\n",
       "...             ...           ...         ...\n",
       "386640         2011            12           5\n",
       "390014         2011            12           6\n",
       "392568         2011            12           7\n",
       "394735         2011            12           8\n",
       "397267         2011            12           9\n",
       "\n",
       "[305 rows x 3 columns]"
      ]
     },
     "execution_count": 8,
     "metadata": {},
     "output_type": "execute_result"
    }
   ],
   "source": [
    "data[[\"InvoiceYear\", \"InvoiceMonth\", \"InvoiceDay\"]].drop_duplicates().sort_values(by=[\"InvoiceYear\", \"InvoiceMonth\", \"InvoiceDay\"])"
   ]
  },
  {
   "cell_type": "markdown",
   "id": "4fc125fd-97d8-4018-b483-8008996498c0",
   "metadata": {},
   "source": [
    "- 2011년 12월 데이터가 9일까지밖에 존재하지 않기 때문에 급격히 줄어든것처럼 보인 것이였다."
   ]
  },
  {
   "cell_type": "markdown",
   "id": "9574a2b5-9bbe-451c-afab-474b7df388e0",
   "metadata": {},
   "source": [
    "## **일별 매출 추이 분석**"
   ]
  },
  {
   "cell_type": "code",
   "execution_count": 9,
   "id": "085547aa-977e-481c-80c4-269c5c5a8d34",
   "metadata": {},
   "outputs": [],
   "source": [
    "data['InvoiceYMD'] = data['InvoiceDate'].dt.strftime('%Y%m%d')"
   ]
  },
  {
   "cell_type": "code",
   "execution_count": 10,
   "id": "23009200-3e60-47d1-8462-82745ac67129",
   "metadata": {},
   "outputs": [
    {
     "data": {
      "image/png": "[encoded data removed]",
      "text/plain": [
       "<Figure size 432x288 with 1 Axes>"
      ]
     },
     "metadata": {
      "needs_background": "light"
     },
     "output_type": "display_data"
    }
   ],
   "source": [
    "## 매출 추이\n",
    "group = data.groupby(['InvoiceYMD'], as_index=False)['Amount'].sum().sort_values(by=['InvoiceYMD'])\n",
    "ax = sns.lineplot(x = 'InvoiceYMD', y = 'Amount', data = group)\n",
    "plt.show()"
   ]
  },
  {
   "cell_type": "code",
   "execution_count": 11,
   "id": "caadd18f-10c9-4fa9-97d5-d8023ed7cad1",
   "metadata": {},
   "outputs": [
    {
     "data": {
      "text/html": [
       "<div>\n",
       "<style scoped>\n",
       "    .dataframe tbody tr th:only-of-type {\n",
       "        vertical-align: middle;\n",
       "    }\n",
       "\n",
       "    .dataframe tbody tr th {\n",
       "        vertical-align: top;\n",
       "    }\n",
       "\n",
       "    .dataframe thead th {\n",
       "        text-align: right;\n",
       "    }\n",
       "</style>\n",
       "<table border=\"1\" class=\"dataframe\">\n",
       "  <thead>\n",
       "    <tr style=\"text-align: right;\">\n",
       "      <th></th>\n",
       "      <th>InvoiceYMD</th>\n",
       "      <th>Amount</th>\n",
       "    </tr>\n",
       "  </thead>\n",
       "  <tbody>\n",
       "    <tr>\n",
       "      <th>0</th>\n",
       "      <td>20101201</td>\n",
       "      <td>46376.49</td>\n",
       "    </tr>\n",
       "    <tr>\n",
       "      <th>1</th>\n",
       "      <td>20101202</td>\n",
       "      <td>47316.53</td>\n",
       "    </tr>\n",
       "    <tr>\n",
       "      <th>2</th>\n",
       "      <td>20101203</td>\n",
       "      <td>23921.71</td>\n",
       "    </tr>\n",
       "    <tr>\n",
       "      <th>3</th>\n",
       "      <td>20101205</td>\n",
       "      <td>31771.60</td>\n",
       "    </tr>\n",
       "    <tr>\n",
       "      <th>4</th>\n",
       "      <td>20101206</td>\n",
       "      <td>31215.64</td>\n",
       "    </tr>\n",
       "    <tr>\n",
       "      <th>...</th>\n",
       "      <td>...</td>\n",
       "      <td>...</td>\n",
       "    </tr>\n",
       "    <tr>\n",
       "      <th>300</th>\n",
       "      <td>20111205</td>\n",
       "      <td>58202.21</td>\n",
       "    </tr>\n",
       "    <tr>\n",
       "      <th>301</th>\n",
       "      <td>20111206</td>\n",
       "      <td>46144.04</td>\n",
       "    </tr>\n",
       "    <tr>\n",
       "      <th>302</th>\n",
       "      <td>20111207</td>\n",
       "      <td>69354.21</td>\n",
       "    </tr>\n",
       "    <tr>\n",
       "      <th>303</th>\n",
       "      <td>20111208</td>\n",
       "      <td>50519.41</td>\n",
       "    </tr>\n",
       "    <tr>\n",
       "      <th>304</th>\n",
       "      <td>20111209</td>\n",
       "      <td>184349.28</td>\n",
       "    </tr>\n",
       "  </tbody>\n",
       "</table>\n",
       "<p>305 rows × 2 columns</p>\n",
       "</div>"
      ],
      "text/plain": [
       "    InvoiceYMD     Amount\n",
       "0     20101201   46376.49\n",
       "1     20101202   47316.53\n",
       "2     20101203   23921.71\n",
       "3     20101205   31771.60\n",
       "4     20101206   31215.64\n",
       "..         ...        ...\n",
       "300   20111205   58202.21\n",
       "301   20111206   46144.04\n",
       "302   20111207   69354.21\n",
       "303   20111208   50519.41\n",
       "304   20111209  184349.28\n",
       "\n",
       "[305 rows x 2 columns]"
      ]
     },
     "execution_count": 11,
     "metadata": {},
     "output_type": "execute_result"
    }
   ],
   "source": [
    "group"
   ]
  },
  {
   "cell_type": "markdown",
   "id": "baf9a96b-f8ef-430e-aa87-b4cca8b3e5c9",
   "metadata": {},
   "source": [
    "- 실제로 일별 매출 추이 확인 결과 매출은 점점 증가하는 추세를 보인다."
   ]
  },
  {
   "cell_type": "markdown",
   "id": "bf53ab66-fc4c-43d6-b3d5-c9a10a223d32",
   "metadata": {},
   "source": [
    "## **시간대별 매출 분석**"
   ]
  },
  {
   "cell_type": "code",
   "execution_count": 12,
   "id": "0c53e14e-90e2-47e5-8950-baf1a03f0af6",
   "metadata": {},
   "outputs": [
    {
     "data": {
      "text/html": [
       "<div>\n",
       "<style scoped>\n",
       "    .dataframe tbody tr th:only-of-type {\n",
       "        vertical-align: middle;\n",
       "    }\n",
       "\n",
       "    .dataframe tbody tr th {\n",
       "        vertical-align: top;\n",
       "    }\n",
       "\n",
       "    .dataframe thead th {\n",
       "        text-align: right;\n",
       "    }\n",
       "</style>\n",
       "<table border=\"1\" class=\"dataframe\">\n",
       "  <thead>\n",
       "    <tr style=\"text-align: right;\">\n",
       "      <th></th>\n",
       "      <th>InvoiceHour</th>\n",
       "      <th>Amount</th>\n",
       "    </tr>\n",
       "  </thead>\n",
       "  <tbody>\n",
       "    <tr>\n",
       "      <th>0</th>\n",
       "      <td>12</td>\n",
       "      <td>1378571.480</td>\n",
       "    </tr>\n",
       "    <tr>\n",
       "      <th>1</th>\n",
       "      <td>10</td>\n",
       "      <td>1261192.571</td>\n",
       "    </tr>\n",
       "    <tr>\n",
       "      <th>2</th>\n",
       "      <td>13</td>\n",
       "      <td>1173264.750</td>\n",
       "    </tr>\n",
       "    <tr>\n",
       "      <th>3</th>\n",
       "      <td>11</td>\n",
       "      <td>1104558.750</td>\n",
       "    </tr>\n",
       "    <tr>\n",
       "      <th>4</th>\n",
       "      <td>14</td>\n",
       "      <td>995629.371</td>\n",
       "    </tr>\n",
       "    <tr>\n",
       "      <th>5</th>\n",
       "      <td>15</td>\n",
       "      <td>966191.750</td>\n",
       "    </tr>\n",
       "    <tr>\n",
       "      <th>6</th>\n",
       "      <td>9</td>\n",
       "      <td>842605.171</td>\n",
       "    </tr>\n",
       "    <tr>\n",
       "      <th>7</th>\n",
       "      <td>16</td>\n",
       "      <td>468885.800</td>\n",
       "    </tr>\n",
       "    <tr>\n",
       "      <th>8</th>\n",
       "      <td>8</td>\n",
       "      <td>282115.630</td>\n",
       "    </tr>\n",
       "    <tr>\n",
       "      <th>9</th>\n",
       "      <td>17</td>\n",
       "      <td>234413.521</td>\n",
       "    </tr>\n",
       "    <tr>\n",
       "      <th>10</th>\n",
       "      <td>18</td>\n",
       "      <td>104954.430</td>\n",
       "    </tr>\n",
       "    <tr>\n",
       "      <th>11</th>\n",
       "      <td>19</td>\n",
       "      <td>49028.460</td>\n",
       "    </tr>\n",
       "    <tr>\n",
       "      <th>12</th>\n",
       "      <td>7</td>\n",
       "      <td>31059.210</td>\n",
       "    </tr>\n",
       "    <tr>\n",
       "      <th>13</th>\n",
       "      <td>20</td>\n",
       "      <td>18932.760</td>\n",
       "    </tr>\n",
       "    <tr>\n",
       "      <th>14</th>\n",
       "      <td>6</td>\n",
       "      <td>4.250</td>\n",
       "    </tr>\n",
       "  </tbody>\n",
       "</table>\n",
       "</div>"
      ],
      "text/plain": [
       "    InvoiceHour       Amount\n",
       "0            12  1378571.480\n",
       "1            10  1261192.571\n",
       "2            13  1173264.750\n",
       "3            11  1104558.750\n",
       "4            14   995629.371\n",
       "5            15   966191.750\n",
       "6             9   842605.171\n",
       "7            16   468885.800\n",
       "8             8   282115.630\n",
       "9            17   234413.521\n",
       "10           18   104954.430\n",
       "11           19    49028.460\n",
       "12            7    31059.210\n",
       "13           20    18932.760\n",
       "14            6        4.250"
      ]
     },
     "execution_count": 12,
     "metadata": {},
     "output_type": "execute_result"
    }
   ],
   "source": [
    "hour_monetary = data.groupby(['InvoiceHour']).agg({'Amount':'sum'}).sort_values('Amount', ascending=False).reset_index()\n",
    "hour_monetary"
   ]
  },
  {
   "cell_type": "code",
   "execution_count": 13,
   "id": "a598f3aa-ac44-4836-92b9-908559e3153d",
   "metadata": {},
   "outputs": [
    {
     "data": {
      "image/png": "[encoded data removed]",
      "text/plain": [
       "<Figure size 432x288 with 1 Axes>"
      ]
     },
     "metadata": {
      "needs_background": "light"
     },
     "output_type": "display_data"
    }
   ],
   "source": [
    "ax = sns.barplot(x = 'InvoiceHour', y = 'Amount', data = hour_monetary)\n",
    "plt.show()"
   ]
  },
  {
   "cell_type": "markdown",
   "id": "072db0d4-9eda-4f26-b99f-f189bb0140cc",
   "metadata": {},
   "source": [
    "- 10~13시 사이에 많은 주문이 일어나며 특히 12시에 가장 많은 주문이 발생한다.\n",
    "- 21 ~ 6시 사이에는 주문이 발생하지 않는다.\n",
    "- 15시 이후 주문량이 급락한다."
   ]
  },
  {
   "cell_type": "markdown",
   "id": "e0ba4d6e-1314-4d1f-86fc-73cca08c3dd9",
   "metadata": {},
   "source": [
    "## **요일별 매출 분석**"
   ]
  },
  {
   "cell_type": "code",
   "execution_count": 14,
   "id": "5ddf6b02-a7c3-4c0b-95f2-1d9b4a55fb1d",
   "metadata": {},
   "outputs": [
    {
     "data": {
      "text/html": [
       "<div>\n",
       "<style scoped>\n",
       "    .dataframe tbody tr th:only-of-type {\n",
       "        vertical-align: middle;\n",
       "    }\n",
       "\n",
       "    .dataframe tbody tr th {\n",
       "        vertical-align: top;\n",
       "    }\n",
       "\n",
       "    .dataframe thead th {\n",
       "        text-align: right;\n",
       "    }\n",
       "</style>\n",
       "<table border=\"1\" class=\"dataframe\">\n",
       "  <thead>\n",
       "    <tr style=\"text-align: right;\">\n",
       "      <th></th>\n",
       "      <th>InvoiceWeekday</th>\n",
       "      <th>Amount</th>\n",
       "    </tr>\n",
       "  </thead>\n",
       "  <tbody>\n",
       "    <tr>\n",
       "      <th>0</th>\n",
       "      <td>Thursday</td>\n",
       "      <td>1976859.070</td>\n",
       "    </tr>\n",
       "    <tr>\n",
       "      <th>1</th>\n",
       "      <td>Tuesday</td>\n",
       "      <td>1700634.631</td>\n",
       "    </tr>\n",
       "    <tr>\n",
       "      <th>2</th>\n",
       "      <td>Wednesday</td>\n",
       "      <td>1588336.170</td>\n",
       "    </tr>\n",
       "    <tr>\n",
       "      <th>3</th>\n",
       "      <td>Friday</td>\n",
       "      <td>1485917.401</td>\n",
       "    </tr>\n",
       "    <tr>\n",
       "      <th>4</th>\n",
       "      <td>Monday</td>\n",
       "      <td>1367146.411</td>\n",
       "    </tr>\n",
       "    <tr>\n",
       "      <th>5</th>\n",
       "      <td>Sunday</td>\n",
       "      <td>792514.221</td>\n",
       "    </tr>\n",
       "  </tbody>\n",
       "</table>\n",
       "</div>"
      ],
      "text/plain": [
       "  InvoiceWeekday       Amount\n",
       "0       Thursday  1976859.070\n",
       "1        Tuesday  1700634.631\n",
       "2      Wednesday  1588336.170\n",
       "3         Friday  1485917.401\n",
       "4         Monday  1367146.411\n",
       "5         Sunday   792514.221"
      ]
     },
     "execution_count": 14,
     "metadata": {},
     "output_type": "execute_result"
    }
   ],
   "source": [
    "day_monetary = data.groupby(['InvoiceWeekday']).agg({'Amount':'sum'}).sort_values('Amount', ascending=False).reset_index()\n",
    "day_monetary"
   ]
  },
  {
   "cell_type": "code",
   "execution_count": 15,
   "id": "73b0ccc5-2c1a-40cb-a8fd-e4d0ef4b5343",
   "metadata": {},
   "outputs": [
    {
     "data": {
      "image/png": "[encoded data removed]",
      "text/plain": [
       "<Figure size 432x288 with 1 Axes>"
      ]
     },
     "metadata": {
      "needs_background": "light"
     },
     "output_type": "display_data"
    }
   ],
   "source": [
    "ax = sns.barplot(x = 'InvoiceWeekday', y = 'Amount', data = day_monetary)\n",
    "plt.show()"
   ]
  },
  {
   "cell_type": "markdown",
   "id": "6dd0f5b5-7320-441d-89f7-bc47d6e4a06c",
   "metadata": {},
   "source": [
    "- 특이하게도 토요일에는 매출이 존재하지 않는다.\n",
    "- 화, 수, 목에 대부분의 매출이 발생하며, 목 > 화 > 수 > 금 > 월 > 일 순으로 매출이 많이 발생한다."
   ]
  },
  {
   "cell_type": "markdown",
   "id": "f629057d-ac8e-47b3-93a4-56d142a57338",
   "metadata": {},
   "source": [
    "## **인기 상품 분석**"
   ]
  },
  {
   "cell_type": "code",
   "execution_count": 16,
   "id": "803fb7fe-1677-41fe-8bac-0272df84602b",
   "metadata": {},
   "outputs": [
    {
     "data": {
      "text/plain": [
       "3665"
      ]
     },
     "execution_count": 16,
     "metadata": {},
     "output_type": "execute_result"
    }
   ],
   "source": [
    "len(data.StockCode.unique())"
   ]
  },
  {
   "cell_type": "code",
   "execution_count": 17,
   "id": "78224959-e01b-4304-9ea6-56e83593dbc0",
   "metadata": {},
   "outputs": [
    {
     "data": {
      "text/html": [
       "<div>\n",
       "<style scoped>\n",
       "    .dataframe tbody tr th:only-of-type {\n",
       "        vertical-align: middle;\n",
       "    }\n",
       "\n",
       "    .dataframe tbody tr th {\n",
       "        vertical-align: top;\n",
       "    }\n",
       "\n",
       "    .dataframe thead th {\n",
       "        text-align: right;\n",
       "    }\n",
       "</style>\n",
       "<table border=\"1\" class=\"dataframe\">\n",
       "  <thead>\n",
       "    <tr style=\"text-align: right;\">\n",
       "      <th></th>\n",
       "      <th>StockCode</th>\n",
       "      <th>Description</th>\n",
       "      <th>UnitPrice</th>\n",
       "    </tr>\n",
       "  </thead>\n",
       "  <tbody>\n",
       "    <tr>\n",
       "      <th>0</th>\n",
       "      <td>85123A</td>\n",
       "      <td>WHITE HANGING HEART T-LIGHT HOLDER</td>\n",
       "      <td>2.55</td>\n",
       "    </tr>\n",
       "    <tr>\n",
       "      <th>1</th>\n",
       "      <td>71053</td>\n",
       "      <td>WHITE METAL LANTERN</td>\n",
       "      <td>3.39</td>\n",
       "    </tr>\n",
       "    <tr>\n",
       "      <th>2</th>\n",
       "      <td>84406B</td>\n",
       "      <td>CREAM CUPID HEARTS COAT HANGER</td>\n",
       "      <td>2.75</td>\n",
       "    </tr>\n",
       "    <tr>\n",
       "      <th>3</th>\n",
       "      <td>84029G</td>\n",
       "      <td>KNITTED UNION FLAG HOT WATER BOTTLE</td>\n",
       "      <td>3.39</td>\n",
       "    </tr>\n",
       "    <tr>\n",
       "      <th>4</th>\n",
       "      <td>84029E</td>\n",
       "      <td>RED WOOLLY HOTTIE WHITE HEART.</td>\n",
       "      <td>3.39</td>\n",
       "    </tr>\n",
       "    <tr>\n",
       "      <th>...</th>\n",
       "      <td>...</td>\n",
       "      <td>...</td>\n",
       "      <td>...</td>\n",
       "    </tr>\n",
       "    <tr>\n",
       "      <th>388954</th>\n",
       "      <td>90214U</td>\n",
       "      <td>LETTER \"U\" BLING KEY RING</td>\n",
       "      <td>0.29</td>\n",
       "    </tr>\n",
       "    <tr>\n",
       "      <th>388956</th>\n",
       "      <td>90214W</td>\n",
       "      <td>LETTER \"W\" BLING KEY RING</td>\n",
       "      <td>0.29</td>\n",
       "    </tr>\n",
       "    <tr>\n",
       "      <th>388958</th>\n",
       "      <td>90214Z</td>\n",
       "      <td>LETTER \"Z\" BLING KEY RING</td>\n",
       "      <td>0.29</td>\n",
       "    </tr>\n",
       "    <tr>\n",
       "      <th>390744</th>\n",
       "      <td>90089</td>\n",
       "      <td>PINK CRYSTAL SKULL PHONE CHARM</td>\n",
       "      <td>0.19</td>\n",
       "    </tr>\n",
       "    <tr>\n",
       "      <th>397411</th>\n",
       "      <td>23843</td>\n",
       "      <td>PAPER CRAFT , LITTLE BIRDIE</td>\n",
       "      <td>2.08</td>\n",
       "    </tr>\n",
       "  </tbody>\n",
       "</table>\n",
       "<p>3665 rows × 3 columns</p>\n",
       "</div>"
      ],
      "text/plain": [
       "       StockCode                          Description  UnitPrice\n",
       "0         85123A   WHITE HANGING HEART T-LIGHT HOLDER       2.55\n",
       "1          71053                  WHITE METAL LANTERN       3.39\n",
       "2         84406B       CREAM CUPID HEARTS COAT HANGER       2.75\n",
       "3         84029G  KNITTED UNION FLAG HOT WATER BOTTLE       3.39\n",
       "4         84029E       RED WOOLLY HOTTIE WHITE HEART.       3.39\n",
       "...          ...                                  ...        ...\n",
       "388954    90214U            LETTER \"U\" BLING KEY RING       0.29\n",
       "388956    90214W            LETTER \"W\" BLING KEY RING       0.29\n",
       "388958    90214Z            LETTER \"Z\" BLING KEY RING       0.29\n",
       "390744     90089       PINK CRYSTAL SKULL PHONE CHARM       0.19\n",
       "397411     23843          PAPER CRAFT , LITTLE BIRDIE       2.08\n",
       "\n",
       "[3665 rows x 3 columns]"
      ]
     },
     "execution_count": 17,
     "metadata": {},
     "output_type": "execute_result"
    }
   ],
   "source": [
    "stock_lst = data.drop_duplicates(['StockCode'])[['StockCode', 'Description', 'UnitPrice']]\n",
    "stock_lst"
   ]
  },
  {
   "cell_type": "code",
   "execution_count": 18,
   "id": "20a06a0b-d0c7-4428-8c7c-0e0a30633544",
   "metadata": {},
   "outputs": [
    {
     "data": {
      "text/html": [
       "<div>\n",
       "<style scoped>\n",
       "    .dataframe tbody tr th:only-of-type {\n",
       "        vertical-align: middle;\n",
       "    }\n",
       "\n",
       "    .dataframe tbody tr th {\n",
       "        vertical-align: top;\n",
       "    }\n",
       "\n",
       "    .dataframe thead th {\n",
       "        text-align: right;\n",
       "    }\n",
       "</style>\n",
       "<table border=\"1\" class=\"dataframe\">\n",
       "  <thead>\n",
       "    <tr style=\"text-align: right;\">\n",
       "      <th></th>\n",
       "      <th>StockCode</th>\n",
       "      <th>Amount</th>\n",
       "      <th>Description</th>\n",
       "      <th>UnitPrice</th>\n",
       "    </tr>\n",
       "  </thead>\n",
       "  <tbody>\n",
       "    <tr>\n",
       "      <th>0</th>\n",
       "      <td>23843</td>\n",
       "      <td>168469.60</td>\n",
       "      <td>PAPER CRAFT , LITTLE BIRDIE</td>\n",
       "      <td>2.08</td>\n",
       "    </tr>\n",
       "    <tr>\n",
       "      <th>1</th>\n",
       "      <td>22423</td>\n",
       "      <td>142592.95</td>\n",
       "      <td>REGENCY CAKESTAND 3 TIER</td>\n",
       "      <td>10.95</td>\n",
       "    </tr>\n",
       "    <tr>\n",
       "      <th>2</th>\n",
       "      <td>85123A</td>\n",
       "      <td>100603.50</td>\n",
       "      <td>WHITE HANGING HEART T-LIGHT HOLDER</td>\n",
       "      <td>2.55</td>\n",
       "    </tr>\n",
       "    <tr>\n",
       "      <th>3</th>\n",
       "      <td>85099B</td>\n",
       "      <td>85220.78</td>\n",
       "      <td>JUMBO BAG RED RETROSPOT</td>\n",
       "      <td>1.65</td>\n",
       "    </tr>\n",
       "    <tr>\n",
       "      <th>4</th>\n",
       "      <td>23166</td>\n",
       "      <td>81416.73</td>\n",
       "      <td>MEDIUM CERAMIC TOP STORAGE JAR</td>\n",
       "      <td>1.04</td>\n",
       "    </tr>\n",
       "    <tr>\n",
       "      <th>5</th>\n",
       "      <td>POST</td>\n",
       "      <td>77803.96</td>\n",
       "      <td>POSTAGE</td>\n",
       "      <td>18.00</td>\n",
       "    </tr>\n",
       "    <tr>\n",
       "      <th>6</th>\n",
       "      <td>47566</td>\n",
       "      <td>68844.33</td>\n",
       "      <td>PARTY BUNTING</td>\n",
       "      <td>4.65</td>\n",
       "    </tr>\n",
       "    <tr>\n",
       "      <th>7</th>\n",
       "      <td>84879</td>\n",
       "      <td>56580.34</td>\n",
       "      <td>ASSORTED COLOUR BIRD ORNAMENT</td>\n",
       "      <td>1.69</td>\n",
       "    </tr>\n",
       "    <tr>\n",
       "      <th>8</th>\n",
       "      <td>M</td>\n",
       "      <td>53779.93</td>\n",
       "      <td>Manual</td>\n",
       "      <td>1.25</td>\n",
       "    </tr>\n",
       "    <tr>\n",
       "      <th>9</th>\n",
       "      <td>23084</td>\n",
       "      <td>51346.20</td>\n",
       "      <td>RABBIT NIGHT LIGHT</td>\n",
       "      <td>2.08</td>\n",
       "    </tr>\n",
       "  </tbody>\n",
       "</table>\n",
       "</div>"
      ],
      "text/plain": [
       "  StockCode     Amount                         Description  UnitPrice\n",
       "0     23843  168469.60         PAPER CRAFT , LITTLE BIRDIE       2.08\n",
       "1     22423  142592.95            REGENCY CAKESTAND 3 TIER      10.95\n",
       "2    85123A  100603.50  WHITE HANGING HEART T-LIGHT HOLDER       2.55\n",
       "3    85099B   85220.78             JUMBO BAG RED RETROSPOT       1.65\n",
       "4     23166   81416.73      MEDIUM CERAMIC TOP STORAGE JAR       1.04\n",
       "5      POST   77803.96                             POSTAGE      18.00\n",
       "6     47566   68844.33                       PARTY BUNTING       4.65\n",
       "7     84879   56580.34       ASSORTED COLOUR BIRD ORNAMENT       1.69\n",
       "8         M   53779.93                              Manual       1.25\n",
       "9     23084   51346.20                  RABBIT NIGHT LIGHT       2.08"
      ]
     },
     "execution_count": 18,
     "metadata": {},
     "output_type": "execute_result"
    }
   ],
   "source": [
    "## 매출 상위 10개 상품 확인\n",
    "pop_amt_stock = data.groupby(['StockCode']).agg({'Amount':'sum'}).sort_values('Amount', ascending=False).reset_index()\n",
    "pd.merge(pop_amt_stock, stock_lst, on='StockCode').head(10)"
   ]
  },
  {
   "cell_type": "code",
   "execution_count": 19,
   "id": "7986d58e-08f0-42f5-95fa-59a21666a357",
   "metadata": {},
   "outputs": [
    {
     "data": {
      "text/html": [
       "<div>\n",
       "<style scoped>\n",
       "    .dataframe tbody tr th:only-of-type {\n",
       "        vertical-align: middle;\n",
       "    }\n",
       "\n",
       "    .dataframe tbody tr th {\n",
       "        vertical-align: top;\n",
       "    }\n",
       "\n",
       "    .dataframe thead th {\n",
       "        text-align: right;\n",
       "    }\n",
       "</style>\n",
       "<table border=\"1\" class=\"dataframe\">\n",
       "  <thead>\n",
       "    <tr style=\"text-align: right;\">\n",
       "      <th></th>\n",
       "      <th>StockCode</th>\n",
       "      <th>Quantity</th>\n",
       "      <th>Description</th>\n",
       "      <th>UnitPrice</th>\n",
       "    </tr>\n",
       "  </thead>\n",
       "  <tbody>\n",
       "    <tr>\n",
       "      <th>0</th>\n",
       "      <td>23843</td>\n",
       "      <td>80995</td>\n",
       "      <td>PAPER CRAFT , LITTLE BIRDIE</td>\n",
       "      <td>2.08</td>\n",
       "    </tr>\n",
       "    <tr>\n",
       "      <th>1</th>\n",
       "      <td>23166</td>\n",
       "      <td>77916</td>\n",
       "      <td>MEDIUM CERAMIC TOP STORAGE JAR</td>\n",
       "      <td>1.04</td>\n",
       "    </tr>\n",
       "    <tr>\n",
       "      <th>2</th>\n",
       "      <td>84077</td>\n",
       "      <td>54415</td>\n",
       "      <td>WORLD WAR 2 GLIDERS ASSTD DESIGNS</td>\n",
       "      <td>0.29</td>\n",
       "    </tr>\n",
       "    <tr>\n",
       "      <th>3</th>\n",
       "      <td>22197</td>\n",
       "      <td>49183</td>\n",
       "      <td>SMALL POPCORN HOLDER</td>\n",
       "      <td>0.72</td>\n",
       "    </tr>\n",
       "    <tr>\n",
       "      <th>4</th>\n",
       "      <td>85099B</td>\n",
       "      <td>46181</td>\n",
       "      <td>JUMBO BAG RED RETROSPOT</td>\n",
       "      <td>1.65</td>\n",
       "    </tr>\n",
       "    <tr>\n",
       "      <th>5</th>\n",
       "      <td>85123A</td>\n",
       "      <td>36782</td>\n",
       "      <td>WHITE HANGING HEART T-LIGHT HOLDER</td>\n",
       "      <td>2.55</td>\n",
       "    </tr>\n",
       "    <tr>\n",
       "      <th>6</th>\n",
       "      <td>84879</td>\n",
       "      <td>35362</td>\n",
       "      <td>ASSORTED COLOUR BIRD ORNAMENT</td>\n",
       "      <td>1.69</td>\n",
       "    </tr>\n",
       "    <tr>\n",
       "      <th>7</th>\n",
       "      <td>21212</td>\n",
       "      <td>33693</td>\n",
       "      <td>PACK OF 72 RETROSPOT CAKE CASES</td>\n",
       "      <td>0.42</td>\n",
       "    </tr>\n",
       "    <tr>\n",
       "      <th>8</th>\n",
       "      <td>23084</td>\n",
       "      <td>27202</td>\n",
       "      <td>RABBIT NIGHT LIGHT</td>\n",
       "      <td>2.08</td>\n",
       "    </tr>\n",
       "    <tr>\n",
       "      <th>9</th>\n",
       "      <td>22492</td>\n",
       "      <td>26076</td>\n",
       "      <td>MINI PAINT SET VINTAGE</td>\n",
       "      <td>0.65</td>\n",
       "    </tr>\n",
       "  </tbody>\n",
       "</table>\n",
       "</div>"
      ],
      "text/plain": [
       "  StockCode  Quantity                         Description  UnitPrice\n",
       "0     23843     80995         PAPER CRAFT , LITTLE BIRDIE       2.08\n",
       "1     23166     77916      MEDIUM CERAMIC TOP STORAGE JAR       1.04\n",
       "2     84077     54415   WORLD WAR 2 GLIDERS ASSTD DESIGNS       0.29\n",
       "3     22197     49183                SMALL POPCORN HOLDER       0.72\n",
       "4    85099B     46181             JUMBO BAG RED RETROSPOT       1.65\n",
       "5    85123A     36782  WHITE HANGING HEART T-LIGHT HOLDER       2.55\n",
       "6     84879     35362       ASSORTED COLOUR BIRD ORNAMENT       1.69\n",
       "7     21212     33693     PACK OF 72 RETROSPOT CAKE CASES       0.42\n",
       "8     23084     27202                  RABBIT NIGHT LIGHT       2.08\n",
       "9     22492     26076             MINI PAINT SET VINTAGE        0.65"
      ]
     },
     "execution_count": 19,
     "metadata": {},
     "output_type": "execute_result"
    }
   ],
   "source": [
    "## 주문량 상위 10개 상품 확인\n",
    "pop_qnty_stock = data.groupby(['StockCode']).agg({'Quantity':'sum'}).sort_values('Quantity', ascending=False).reset_index()\n",
    "pd.merge(pop_qnty_stock, stock_lst, on='StockCode').head(10)"
   ]
  }
 ],
 "metadata": {
  "kernelspec": {
   "display_name": "Python 3 (ipykernel)",
   "language": "python",
   "name": "python3"
  },
  "language_info": {
   "codemirror_mode": {
    "name": "ipython",
    "version": 3
   },
   "file_extension": ".py",
   "mimetype": "text/x-python",
   "name": "python",
   "nbconvert_exporter": "python",
   "pygments_lexer": "ipython3",
   "version": "3.9.7"
  }
 },
 "nbformat": 4,
 "nbformat_minor": 5
}
