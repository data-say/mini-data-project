{
 "cells": [
  {
   "cell_type": "markdown",
   "id": "e08472cf-6aeb-40ec-9674-df4e2db0c591",
   "metadata": {},
   "source": [
    "# **쇼핑몰 주문 데이터 분석 - 매출 분석**"
   ]
  },
  {
   "cell_type": "code",
   "execution_count": 1,
   "id": "bebbbff1-b82c-4730-83c3-de51d67f98de",
   "metadata": {},
   "outputs": [],
   "source": [
    "import pandas as pd\n",
    "import numpy as np\n",
    "\n",
    "import matplotlib.pyplot as plt\n",
    "import seaborn as sns\n",
    "\n",
    "import warnings\n",
    "warnings.filterwarnings(\"ignore\")"
   ]
  },
  {
   "cell_type": "code",
   "execution_count": 2,
   "id": "1472ea2b-8115-4cdf-ba50-0e93678da6c5",
   "metadata": {},
   "outputs": [
    {
     "data": {
      "text/html": [
       "<div>\n",
       "<style scoped>\n",
       "    .dataframe tbody tr th:only-of-type {\n",
       "        vertical-align: middle;\n",
       "    }\n",
       "\n",
       "    .dataframe tbody tr th {\n",
       "        vertical-align: top;\n",
       "    }\n",
       "\n",
       "    .dataframe thead th {\n",
       "        text-align: right;\n",
       "    }\n",
       "</style>\n",
       "<table border=\"1\" class=\"dataframe\">\n",
       "  <thead>\n",
       "    <tr style=\"text-align: right;\">\n",
       "      <th></th>\n",
       "      <th>InvoiceNo</th>\n",
       "      <th>StockCode</th>\n",
       "      <th>Description</th>\n",
       "      <th>Quantity</th>\n",
       "      <th>InvoiceDate</th>\n",
       "      <th>UnitPrice</th>\n",
       "      <th>CustomerID</th>\n",
       "      <th>Country</th>\n",
       "      <th>InvoiceHour</th>\n",
       "      <th>InvoiceWeekday</th>\n",
       "      <th>InvoiceDay</th>\n",
       "      <th>InvoiceMonth</th>\n",
       "      <th>InvoiceYear</th>\n",
       "      <th>Amount</th>\n",
       "    </tr>\n",
       "  </thead>\n",
       "  <tbody>\n",
       "    <tr>\n",
       "      <th>0</th>\n",
       "      <td>536365</td>\n",
       "      <td>85123A</td>\n",
       "      <td>WHITE HANGING HEART T-LIGHT HOLDER</td>\n",
       "      <td>6</td>\n",
       "      <td>2010-12-01 08:26:00</td>\n",
       "      <td>2.55</td>\n",
       "      <td>17850</td>\n",
       "      <td>United Kingdom</td>\n",
       "      <td>8</td>\n",
       "      <td>Wednesday</td>\n",
       "      <td>1</td>\n",
       "      <td>12</td>\n",
       "      <td>2010</td>\n",
       "      <td>15.30</td>\n",
       "    </tr>\n",
       "    <tr>\n",
       "      <th>1</th>\n",
       "      <td>536365</td>\n",
       "      <td>71053</td>\n",
       "      <td>WHITE METAL LANTERN</td>\n",
       "      <td>6</td>\n",
       "      <td>2010-12-01 08:26:00</td>\n",
       "      <td>3.39</td>\n",
       "      <td>17850</td>\n",
       "      <td>United Kingdom</td>\n",
       "      <td>8</td>\n",
       "      <td>Wednesday</td>\n",
       "      <td>1</td>\n",
       "      <td>12</td>\n",
       "      <td>2010</td>\n",
       "      <td>20.34</td>\n",
       "    </tr>\n",
       "    <tr>\n",
       "      <th>2</th>\n",
       "      <td>536365</td>\n",
       "      <td>84406B</td>\n",
       "      <td>CREAM CUPID HEARTS COAT HANGER</td>\n",
       "      <td>8</td>\n",
       "      <td>2010-12-01 08:26:00</td>\n",
       "      <td>2.75</td>\n",
       "      <td>17850</td>\n",
       "      <td>United Kingdom</td>\n",
       "      <td>8</td>\n",
       "      <td>Wednesday</td>\n",
       "      <td>1</td>\n",
       "      <td>12</td>\n",
       "      <td>2010</td>\n",
       "      <td>22.00</td>\n",
       "    </tr>\n",
       "    <tr>\n",
       "      <th>3</th>\n",
       "      <td>536365</td>\n",
       "      <td>84029G</td>\n",
       "      <td>KNITTED UNION FLAG HOT WATER BOTTLE</td>\n",
       "      <td>6</td>\n",
       "      <td>2010-12-01 08:26:00</td>\n",
       "      <td>3.39</td>\n",
       "      <td>17850</td>\n",
       "      <td>United Kingdom</td>\n",
       "      <td>8</td>\n",
       "      <td>Wednesday</td>\n",
       "      <td>1</td>\n",
       "      <td>12</td>\n",
       "      <td>2010</td>\n",
       "      <td>20.34</td>\n",
       "    </tr>\n",
       "    <tr>\n",
       "      <th>4</th>\n",
       "      <td>536365</td>\n",
       "      <td>84029E</td>\n",
       "      <td>RED WOOLLY HOTTIE WHITE HEART.</td>\n",
       "      <td>6</td>\n",
       "      <td>2010-12-01 08:26:00</td>\n",
       "      <td>3.39</td>\n",
       "      <td>17850</td>\n",
       "      <td>United Kingdom</td>\n",
       "      <td>8</td>\n",
       "      <td>Wednesday</td>\n",
       "      <td>1</td>\n",
       "      <td>12</td>\n",
       "      <td>2010</td>\n",
       "      <td>20.34</td>\n",
       "    </tr>\n",
       "  </tbody>\n",
       "</table>\n",
       "</div>"
      ],
      "text/plain": [
       "   InvoiceNo StockCode                          Description  Quantity  \\\n",
       "0     536365    85123A   WHITE HANGING HEART T-LIGHT HOLDER         6   \n",
       "1     536365     71053                  WHITE METAL LANTERN         6   \n",
       "2     536365    84406B       CREAM CUPID HEARTS COAT HANGER         8   \n",
       "3     536365    84029G  KNITTED UNION FLAG HOT WATER BOTTLE         6   \n",
       "4     536365    84029E       RED WOOLLY HOTTIE WHITE HEART.         6   \n",
       "\n",
       "           InvoiceDate  UnitPrice  CustomerID         Country  InvoiceHour  \\\n",
       "0  2010-12-01 08:26:00       2.55       17850  United Kingdom            8   \n",
       "1  2010-12-01 08:26:00       3.39       17850  United Kingdom            8   \n",
       "2  2010-12-01 08:26:00       2.75       17850  United Kingdom            8   \n",
       "3  2010-12-01 08:26:00       3.39       17850  United Kingdom            8   \n",
       "4  2010-12-01 08:26:00       3.39       17850  United Kingdom            8   \n",
       "\n",
       "  InvoiceWeekday  InvoiceDay  InvoiceMonth  InvoiceYear  Amount  \n",
       "0      Wednesday           1            12         2010   15.30  \n",
       "1      Wednesday           1            12         2010   20.34  \n",
       "2      Wednesday           1            12         2010   22.00  \n",
       "3      Wednesday           1            12         2010   20.34  \n",
       "4      Wednesday           1            12         2010   20.34  "
      ]
     },
     "execution_count": 2,
     "metadata": {},
     "output_type": "execute_result"
    }
   ],
   "source": [
    "data = pd.read_csv('data/OnlineRetail2.csv')\n",
    "data.head()"
   ]
  },
  {
   "cell_type": "code",
   "execution_count": 3,
   "id": "3231e5c5-05db-44f7-9469-5d8c45ab23bd",
   "metadata": {},
   "outputs": [
    {
     "name": "stdout",
     "output_type": "stream",
     "text": [
      "<class 'pandas.core.frame.DataFrame'>\n",
      "RangeIndex: 397884 entries, 0 to 397883\n",
      "Data columns (total 14 columns):\n",
      " #   Column          Non-Null Count   Dtype  \n",
      "---  ------          --------------   -----  \n",
      " 0   InvoiceNo       397884 non-null  int64  \n",
      " 1   StockCode       397884 non-null  object \n",
      " 2   Description     397884 non-null  object \n",
      " 3   Quantity        397884 non-null  int64  \n",
      " 4   InvoiceDate     397884 non-null  object \n",
      " 5   UnitPrice       397884 non-null  float64\n",
      " 6   CustomerID      397884 non-null  int64  \n",
      " 7   Country         397884 non-null  object \n",
      " 8   InvoiceHour     397884 non-null  int64  \n",
      " 9   InvoiceWeekday  397884 non-null  object \n",
      " 10  InvoiceDay      397884 non-null  int64  \n",
      " 11  InvoiceMonth    397884 non-null  int64  \n",
      " 12  InvoiceYear     397884 non-null  int64  \n",
      " 13  Amount          397884 non-null  float64\n",
      "dtypes: float64(2), int64(7), object(5)\n",
      "memory usage: 42.5+ MB\n"
     ]
    }
   ],
   "source": [
    "data.info()"
   ]
  },
  {
   "cell_type": "code",
   "execution_count": 4,
   "id": "525f3542-313e-47c4-83ba-2e25fce7c071",
   "metadata": {},
   "outputs": [],
   "source": [
    "data['InvoiceDate'] = pd.to_datetime(data['InvoiceDate'])"
   ]
  },
  {
   "cell_type": "markdown",
   "id": "5f6850f5-013e-432b-9c26-3473e311d940",
   "metadata": {},
   "source": [
    "## **전체 매출 분석**"
   ]
  },
  {
   "cell_type": "code",
   "execution_count": 5,
   "id": "20833857-34ac-4df5-8bec-2c5b44c95abd",
   "metadata": {},
   "outputs": [
    {
     "data": {
      "text/plain": [
       "8911407.904"
      ]
     },
     "execution_count": 5,
     "metadata": {},
     "output_type": "execute_result"
    }
   ],
   "source": [
    "## 전체 매출\n",
    "total_monetary = data['Amount'].sum()\n",
    "total_monetary"
   ]
  },
  {
   "cell_type": "markdown",
   "id": "9da469ad-dc92-45f7-95e6-ea69c360b1e3",
   "metadata": {},
   "source": [
    "## **월별 매출 분석**"
   ]
  },
  {
   "cell_type": "code",
   "execution_count": 6,
   "id": "8c463abf-ce5f-415a-a9eb-5f0d2f6d5190",
   "metadata": {},
   "outputs": [],
   "source": [
    "data['InvoiceYM'] = data['InvoiceDate'].dt.strftime('%Y%m')"
   ]
  },
  {
   "cell_type": "code",
   "execution_count": 7,
   "id": "ae656f5b-218a-4431-b710-b89c68451de9",
   "metadata": {},
   "outputs": [
    {
     "data": {
      "image/png": "[encoded data removed]",
      "text/plain": [
       "<Figure size 432x288 with 1 Axes>"
      ]
     },
     "metadata": {
      "needs_background": "light"
     },
     "output_type": "display_data"
    }
   ],
   "source": [
    "## 매출 추이\n",
    "group = data.groupby(['InvoiceYM'], as_index=False)['Amount'].sum()\n",
    "ax = sns.lineplot(x = 'InvoiceYM', y = 'Amount', data = group)\n",
    "ax.tick_params(axis='x', labelrotation=45)\n",
    "plt.show()"
   ]
  },
  {
   "cell_type": "markdown",
   "id": "f1f402e8-630d-4353-b5c2-0e5901c99dfe",
   "metadata": {},
   "source": [
    "- 2011년 9, 10, 11월에 매출이 급격히 늘어난 후 12월에 급격히 줄었다."
   ]
  },
  {
   "cell_type": "code",
   "execution_count": 8,
   "id": "f8ef6fe9-05a2-40fc-945c-3da80096d4b8",
   "metadata": {},
   "outputs": [
    {
     "data": {
      "text/html": [
       "<div>\n",
       "<style scoped>\n",
       "    .dataframe tbody tr th:only-of-type {\n",
       "        vertical-align: middle;\n",
       "    }\n",
       "\n",
       "    .dataframe tbody tr th {\n",
       "        vertical-align: top;\n",
       "    }\n",
       "\n",
       "    .dataframe thead th {\n",
       "        text-align: right;\n",
       "    }\n",
       "</style>\n",
       "<table border=\"1\" class=\"dataframe\">\n",
       "  <thead>\n",
       "    <tr style=\"text-align: right;\">\n",
       "      <th></th>\n",
       "      <th>InvoiceYear</th>\n",
       "      <th>InvoiceMonth</th>\n",
       "      <th>InvoiceDay</th>\n",
       "    </tr>\n",
       "  </thead>\n",
       "  <tbody>\n",
       "    <tr>\n",
       "      <th>0</th>\n",
       "      <td>2010</td>\n",
       "      <td>12</td>\n",
       "      <td>1</td>\n",
       "    </tr>\n",
       "    <tr>\n",
       "      <th>1942</th>\n",
       "      <td>2010</td>\n",
       "      <td>12</td>\n",
       "      <td>2</td>\n",
       "    </tr>\n",
       "    <tr>\n",
       "      <th>3942</th>\n",
       "      <td>2010</td>\n",
       "      <td>12</td>\n",
       "      <td>3</td>\n",
       "    </tr>\n",
       "    <tr>\n",
       "      <th>5045</th>\n",
       "      <td>2010</td>\n",
       "      <td>12</td>\n",
       "      <td>5</td>\n",
       "    </tr>\n",
       "    <tr>\n",
       "      <th>7752</th>\n",
       "      <td>2010</td>\n",
       "      <td>12</td>\n",
       "      <td>6</td>\n",
       "    </tr>\n",
       "    <tr>\n",
       "      <th>...</th>\n",
       "      <td>...</td>\n",
       "      <td>...</td>\n",
       "      <td>...</td>\n",
       "    </tr>\n",
       "    <tr>\n",
       "      <th>386640</th>\n",
       "      <td>2011</td>\n",
       "      <td>12</td>\n",
       "      <td>5</td>\n",
       "    </tr>\n",
       "    <tr>\n",
       "      <th>390014</th>\n",
       "      <td>2011</td>\n",
       "      <td>12</td>\n",
       "      <td>6</td>\n",
       "    </tr>\n",
       "    <tr>\n",
       "      <th>392568</th>\n",
       "      <td>2011</td>\n",
       "      <td>12</td>\n",
       "      <td>7</td>\n",
       "    </tr>\n",
       "    <tr>\n",
       "      <th>394735</th>\n",
       "      <td>2011</td>\n",
       "      <td>12</td>\n",
       "      <td>8</td>\n",
       "    </tr>\n",
       "    <tr>\n",
       "      <th>397267</th>\n",
       "      <td>2011</td>\n",
       "      <td>12</td>\n",
       "      <td>9</td>\n",
       "    </tr>\n",
       "  </tbody>\n",
       "</table>\n",
       "<p>305 rows × 3 columns</p>\n",
       "</div>"
      ],
      "text/plain": [
       "        InvoiceYear  InvoiceMonth  InvoiceDay\n",
       "0              2010            12           1\n",
       "1942           2010            12           2\n",
       "3942           2010            12           3\n",
       "5045           2010            12           5\n",
       "7752           2010            12           6\n",
       "...             ...           ...         ...\n",
       "386640         2011            12           5\n",
       "390014         2011            12           6\n",
       "392568         2011            12           7\n",
       "394735         2011            12           8\n",
       "397267         2011            12           9\n",
       "\n",
       "[305 rows x 3 columns]"
      ]
     },
     "execution_count": 8,
     "metadata": {},
     "output_type": "execute_result"
    }
   ],
   "source": [
    "data[[\"InvoiceYear\", \"InvoiceMonth\", \"InvoiceDay\"]].drop_duplicates().sort_values(by=[\"InvoiceYear\", \"InvoiceMonth\", \"InvoiceDay\"])"
   ]
  },
  {
   "cell_type": "markdown",
   "id": "4fc125fd-97d8-4018-b483-8008996498c0",
   "metadata": {},
   "source": [
    "- 2011년 12월 데이터가 9일까지밖에 존재하지 않기 때문에 급격히 줄어든것처럼 보인 것이였다."
   ]
  },
  {
   "cell_type": "markdown",
   "id": "9574a2b5-9bbe-451c-afab-474b7df388e0",
   "metadata": {},
   "source": [
    "## **일별 매출 추이 분석**"
   ]
  },
  {
   "cell_type": "code",
   "execution_count": 9,
   "id": "085547aa-977e-481c-80c4-269c5c5a8d34",
   "metadata": {},
   "outputs": [],
   "source": [
    "data['InvoiceYMD'] = data['InvoiceDate'].dt.strftime('%Y%m%d')"
   ]
  },
  {
   "cell_type": "code",
   "execution_count": null,
   "id": "23009200-3e60-47d1-8462-82745ac67129",
   "metadata": {},
   "outputs": [],
   "source": [
    "## 매출 추이\n",
    "group = data.groupby(['InvoiceYMD'], as_index=False)['Amount'].sum().sort_values(by=['InvoiceYMD'])\n",
    "ax = sns.lineplot(x = 'InvoiceYMD', y = 'Amount', data = group)\n",
    "plt.show()"
   ]
  },
  {
   "cell_type": "code",
   "execution_count": null,
   "id": "caadd18f-10c9-4fa9-97d5-d8023ed7cad1",
   "metadata": {},
   "outputs": [],
   "source": [
    "group"
   ]
  },
  {
   "cell_type": "markdown",
   "id": "baf9a96b-f8ef-430e-aa87-b4cca8b3e5c9",
   "metadata": {},
   "source": [
    "- 실제로 일별 매출 추이 확인 결과 매출은 점점 증가하는 추세를 보인다."
   ]
  },
  {
   "cell_type": "markdown",
   "id": "bf53ab66-fc4c-43d6-b3d5-c9a10a223d32",
   "metadata": {},
   "source": [
    "## **시간대별 매출 분석**"
   ]
  },
  {
   "cell_type": "code",
   "execution_count": null,
   "id": "0c53e14e-90e2-47e5-8950-baf1a03f0af6",
   "metadata": {},
   "outputs": [],
   "source": [
    "hour_monetary = data.groupby(['InvoiceHour']).agg({'Amount':'sum'}).sort_values('Amount', ascending=False).reset_index()\n",
    "hour_monetary"
   ]
  },
  {
   "cell_type": "code",
   "execution_count": null,
   "id": "a598f3aa-ac44-4836-92b9-908559e3153d",
   "metadata": {},
   "outputs": [],
   "source": [
    "ax = sns.barplot(x = 'InvoiceHour', y = 'Amount', data = hour_monetary)\n",
    "plt.show()"
   ]
  },
  {
   "cell_type": "markdown",
   "id": "072db0d4-9eda-4f26-b99f-f189bb0140cc",
   "metadata": {},
   "source": [
    "- 10~13시 사이에 많은 주문이 일어나며 특히 12시에 가장 많은 주문이 발생한다.\n",
    "- 21 ~ 6시 사이에는 주문이 발생하지 않는다.\n",
    "- 15시 이후 주문량이 급락한다."
   ]
  },
  {
   "cell_type": "markdown",
   "id": "e0ba4d6e-1314-4d1f-86fc-73cca08c3dd9",
   "metadata": {},
   "source": [
    "## **요일별 매출 분석**"
   ]
  },
  {
   "cell_type": "code",
   "execution_count": null,
   "id": "5ddf6b02-a7c3-4c0b-95f2-1d9b4a55fb1d",
   "metadata": {},
   "outputs": [],
   "source": [
    "day_monetary = data.groupby(['InvoiceWeekday']).agg({'Amount':'sum'}).sort_values('Amount', ascending=False).reset_index()\n",
    "day_monetary"
   ]
  },
  {
   "cell_type": "code",
   "execution_count": null,
   "id": "73b0ccc5-2c1a-40cb-a8fd-e4d0ef4b5343",
   "metadata": {},
   "outputs": [],
   "source": [
    "ax = sns.barplot(x = 'InvoiceWeekday', y = 'Amount', data = day_monetary)\n",
    "plt.show()"
   ]
  },
  {
   "cell_type": "markdown",
   "id": "6dd0f5b5-7320-441d-89f7-bc47d6e4a06c",
   "metadata": {},
   "source": [
    "- 특이하게도 토요일에는 매출이 존재하지 않는다.\n",
    "- 화, 수, 목에 대부분의 매출이 발생하며, 목 > 화 > 수 > 금 > 월 > 일 순으로 매출이 많이 발생한다."
   ]
  },
  {
   "cell_type": "markdown",
   "id": "f629057d-ac8e-47b3-93a4-56d142a57338",
   "metadata": {},
   "source": [
    "## **인기 상품 분석**"
   ]
  },
  {
   "cell_type": "code",
   "execution_count": null,
   "id": "803fb7fe-1677-41fe-8bac-0272df84602b",
   "metadata": {},
   "outputs": [],
   "source": [
    "len(data.StockCode.unique())"
   ]
  },
  {
   "cell_type": "code",
   "execution_count": null,
   "id": "78224959-e01b-4304-9ea6-56e83593dbc0",
   "metadata": {},
   "outputs": [],
   "source": [
    "stock_lst = data.drop_duplicates(['StockCode'])[['StockCode', 'Description', 'UnitPrice']]\n",
    "stock_lst"
   ]
  },
  {
   "cell_type": "code",
   "execution_count": null,
   "id": "20a06a0b-d0c7-4428-8c7c-0e0a30633544",
   "metadata": {},
   "outputs": [],
   "source": [
    "## 매출 상위 10개 상품 확인\n",
    "pop_amt_stock = data.groupby(['StockCode']).agg({'Amount':'sum'}).sort_values('Amount', ascending=False).reset_index()\n",
    "pd.merge(pop_amt_stock, stock_lst, on='StockCode').head(10)"
   ]
  },
  {
   "cell_type": "code",
   "execution_count": null,
   "id": "7986d58e-08f0-42f5-95fa-59a21666a357",
   "metadata": {},
   "outputs": [],
   "source": [
    "## 주문량 상위 10개 상품 확인\n",
    "pop_qnty_stock = data.groupby(['StockCode']).agg({'Quantity':'sum'}).sort_values('Quantity', ascending=False).reset_index()\n",
    "pd.merge(pop_qnty_stock, stock_lst, on='StockCode').head(10)"
   ]
  }
 ],
 "metadata": {
  "kernelspec": {
   "display_name": "Python 3 (ipykernel)",
   "language": "python",
   "name": "python3"
  },
  "language_info": {
   "codemirror_mode": {
    "name": "ipython",
    "version": 3
   },
   "file_extension": ".py",
   "mimetype": "text/x-python",
   "name": "python",
   "nbconvert_exporter": "python",
   "pygments_lexer": "ipython3",
   "version": "3.9.7"
  }
 },
 "nbformat": 4,
 "nbformat_minor": 5
}
